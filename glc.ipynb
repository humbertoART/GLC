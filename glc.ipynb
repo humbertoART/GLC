{
 "cells": [
  {
   "cell_type": "markdown",
   "id": "b3af7832",
   "metadata": {},
   "source": [
    "# Gramática Libre de Contexto\n",
    "## Lectura de archivos"
   ]
  },
  {
   "cell_type": "code",
   "execution_count": 98,
   "id": "91d21b16",
   "metadata": {},
   "outputs": [],
   "source": [
    "file = open(r\"C:\\Users\\hrosa\\OneDrive\\Documentos\\CIC IPN\\Primer Semestre\\Teoria Computacion\\GLC\\GLC.txt\")"
   ]
  },
  {
   "cell_type": "code",
   "execution_count": 99,
   "id": "d5dc3b36",
   "metadata": {},
   "outputs": [],
   "source": [
    "content = file.read()"
   ]
  },
  {
   "cell_type": "code",
   "execution_count": 100,
   "id": "4d3cb5ea",
   "metadata": {},
   "outputs": [
    {
     "data": {
      "text/plain": [
       "['S -> aC | SB', 'A -> bSCa | ad', 'B -> aSB | bBC', 'C -> aBC | ad', '']"
      ]
     },
     "execution_count": 100,
     "metadata": {},
     "output_type": "execute_result"
    }
   ],
   "source": [
    "content.split('\\n')"
   ]
  },
  {
   "cell_type": "code",
   "execution_count": 101,
   "id": "0cf753ad",
   "metadata": {},
   "outputs": [
    {
     "name": "stdout",
     "output_type": "stream",
     "text": [
      "stack: [[['S'], ['->'], ['aC'], ['|'], ['SB']], [['A'], ['->'], ['bSCa'], ['|'], ['ad']], [['B'], ['->'], ['aSB'], ['|'], ['bBC']], [['C'], ['->'], ['aBC'], ['|'], ['ad']], []]\n"
     ]
    }
   ],
   "source": [
    "split_content = content.split('\\n')\n",
    "stack = []\n",
    "for r in split_content:\n",
    "    rules = []\n",
    "    for s in r.split():\n",
    "        rules.append([s])\n",
    "    stack.append(rules)\n",
    "print(f'stack: {stack}')"
   ]
  },
  {
   "cell_type": "code",
   "execution_count": 103,
   "id": "c790e93b",
   "metadata": {},
   "outputs": [
    {
     "name": "stdout",
     "output_type": "stream",
     "text": [
      "['aC']\n",
      "['aC', 'SB']\n",
      "['bSCa']\n",
      "['bSCa', 'ad']\n",
      "['aSB']\n",
      "['aSB', 'bBC']\n",
      "['aBC']\n",
      "['aBC', 'ad']\n",
      "rules{'S': ['aC', 'SB'], 'A': ['bSCa', 'ad'], 'B': ['aSB', 'bBC'], 'C': ['aBC', 'ad']}\n"
     ]
    }
   ],
   "source": [
    "#se crean los diccionarios de cada regla de inferencia\n",
    "rules = {}\n",
    "for i in stack:\n",
    "    if not i:\n",
    "        continue\n",
    "    head = i[0][0]\n",
    "    productions = []\n",
    "    for j in i[2:]:\n",
    "        if j[0] != '|':\n",
    "            productions.append(j[0])\n",
    "            print(productions)\n",
    "    rules[head] = productions\n",
    "print(f'rules{rules}')"
   ]
  },
  {
   "cell_type": "markdown",
   "id": "f00f73a6",
   "metadata": {},
   "source": [
    "## Simplificación de unificación no recursiva"
   ]
  },
  {
   "cell_type": "code",
   "execution_count": 493,
   "id": "e1dba4b3",
   "metadata": {},
   "outputs": [],
   "source": [
    "def unificacion_no_recursiva(rules):\n",
    "    #simplificacion de unificacion no recursiva\n",
    "    for k,v in rules.items():\n",
    "        # print(f'k:{k}')\n",
    "        # print(f'v:{v}')\n",
    "        first = {}\n",
    "        for i in v: #por cada elemento de producciones\n",
    "            max_prefix = i #como no se tiene compun, se toma todo el elemento\n",
    "            # print(f'HOLA I{i}')\n",
    "            for j in v: #por cada aparición de elemento: comparar contra los demás\n",
    "                if j != i: #si esa comparación no es igual\n",
    "                    # print(f'j:{j} != i:{i}')\n",
    "                    prefix_common = \"\" #se inicializa en cero, porque aún no hay prefijo comúb\n",
    "                    compare = 1 #caracter en común en comparación \n",
    "                    #mientras no tenga longitud mayor y haya comun\n",
    "                    #compare 1: a == a\n",
    "                    #compare 2: ab != B\n",
    "                    while compare <= len(i) and compare <= len(j) and i[:compare] == j[:compare]:\n",
    "                        prefix_common = i[:compare]\n",
    "                        compare += 1\n",
    "\n",
    "                    counter = 0\n",
    "                    for production in v: #cuenta # de elementos con prefijo compun\n",
    "                        if production.startswith(prefix_common):\n",
    "                            counter += 1\n",
    "                    if prefix_common and counter > 1: #actualizar el término más común\n",
    "                        max_prefix = prefix_common\n",
    "\n",
    "            prefix_found = max_prefix\n",
    "            body = i[len(prefix_found):] #no incluir el prefijo común\n",
    "\n",
    "            if prefix_found not in first:\n",
    "                first[prefix_found] = []\n",
    "            first[prefix_found].append(body)\n",
    "    #     print(first)\n",
    "\n",
    "    # print(f'new rules: {first}')\n",
    "    new_rules = {}\n",
    "    counter_r = 1\n",
    "    # print(rules)\n",
    "    origin_rules = None\n",
    "    for k, v in rules.items():\n",
    "        origin_rules = k\n",
    "\n",
    "    productions_origin = []\n",
    "\n",
    "    for k,v in first.items():\n",
    "        if len(v) == 1: #si solo hay una producción:\n",
    "            new_rules[k] = v\n",
    "            productions_origin.append(k+v[0])\n",
    "        else:\n",
    "            aux = f\"R{counter_r}\"\n",
    "            counter_r += 1\n",
    "            new_rules[aux] = v\n",
    "            productions_origin.append(k+aux)\n",
    "\n",
    "    rules_unified = {origin_rules:productions_origin}\n",
    "    for k,v in new_rules.items():\n",
    "        rules_unified[k] = v\n",
    "\n",
    "    # print(f'new rules: {rules_unified}')\n",
    "\n",
    "    for k,v in rules_unified.items():\n",
    "        print(f'{k}->{\"|\".join(v)}')\n",
    "\n",
    "    return rules_unified"
   ]
  },
  {
   "cell_type": "code",
   "execution_count": 495,
   "id": "ed705a78",
   "metadata": {},
   "outputs": [
    {
     "name": "stdout",
     "output_type": "stream",
     "text": [
      "{'S': ['bA', 'aB'], 'A': ['bAA', 'aS', 'a'], 'B': ['aBB', 'bS', 'a']}\n",
      "B->aR1|bS\n",
      "R1->BB|\n",
      "bS->\n"
     ]
    },
    {
     "data": {
      "text/plain": [
       "{'B': ['aR1', 'bS'], 'R1': ['BB', ''], 'bS': ['']}"
      ]
     },
     "execution_count": 495,
     "metadata": {},
     "output_type": "execute_result"
    }
   ],
   "source": [
    "print(rules)\n",
    "unificacion_no_recursiva(rules)"
   ]
  },
  {
   "cell_type": "markdown",
   "id": "a2430537",
   "metadata": {},
   "source": [
    "## Simplicidad de símbolos redundantes\n",
    "1. variables no productivas.\n",
    "2. variables inalcanzables."
   ]
  },
  {
   "cell_type": "code",
   "execution_count": 104,
   "id": "69316248",
   "metadata": {},
   "outputs": [],
   "source": [
    "def simbolos_redundantes(rules):\n",
    "    not_productive = []\n",
    "    for k,v in rules.items():\n",
    "        # print(f'k:{k} and v:{v}')\n",
    "        productive = False\n",
    "\n",
    "        for production in v:\n",
    "            terminal_count = 0\n",
    "            no_terminal_count = False\n",
    "\n",
    "            for char in production:\n",
    "                if char.islower(): #es terminal?\n",
    "                    terminal_count += 1\n",
    "                if char.isupper(): #es no terminal\n",
    "                    no_terminal_count = True\n",
    "\n",
    "            if terminal_count >= 1 and not no_terminal_count:\n",
    "                productive = True\n",
    "                \n",
    "        if not productive and k != 'S':\n",
    "            not_productive.append(k)\n",
    "    # print(not_productive)\n",
    "\n",
    "    #=======\n",
    "    filter_no_productive = {}\n",
    "    for k,v in rules.items():\n",
    "        if k not in not_productive:\n",
    "            new_rules = []\n",
    "            for production in v:\n",
    "                productive = True\n",
    "                for char in production:\n",
    "                    if char in not_productive:\n",
    "                        # print(char)\n",
    "                        productive = False\n",
    "                if productive:\n",
    "                    new_rules.append(production)\n",
    "            if new_rules:\n",
    "                filter_no_productive[k] = new_rules\n",
    "    # print(filter_no_productive)\n",
    "\n",
    "    #====\n",
    "    rule_s = filter_no_productive['S']\n",
    "    # print(f'rules s: {rule_s}')\n",
    "    not_redundants = {}\n",
    "    inalcanzable = []\n",
    "\n",
    "    for k, v in filter_no_productive.items():\n",
    "        alcanzable = False\n",
    "        for production in v:\n",
    "            # print(production)\n",
    "            # print(f'k:{k}')\n",
    "            for i in rule_s:          \n",
    "                # print(i)\n",
    "                # print(f'---{k}')\n",
    "                if k in i or k == 'S':\n",
    "                    alcanzable = True\n",
    "            if not alcanzable:\n",
    "                inalcanzable.append(k)\n",
    "    # print(inalcanzable)\n",
    "\n",
    "    for k,v in filter_no_productive.items():\n",
    "        if k not in inalcanzable:\n",
    "            not_redundants[k] = v\n",
    "    # print(not_redundants)\n",
    "\n",
    "    return not_redundants"
   ]
  },
  {
   "cell_type": "code",
   "execution_count": 105,
   "id": "46afa1f8",
   "metadata": {},
   "outputs": [
    {
     "data": {
      "text/plain": [
       "{'S': ['aC'], 'C': ['ad']}"
      ]
     },
     "execution_count": 105,
     "metadata": {},
     "output_type": "execute_result"
    }
   ],
   "source": [
    "simbolos_redundantes(rules)"
   ]
  },
  {
   "cell_type": "markdown",
   "id": "39b49f3c",
   "metadata": {},
   "source": [
    "## Simplicidad por reglas unitarias"
   ]
  },
  {
   "cell_type": "code",
   "execution_count": 82,
   "id": "0b04b6c2",
   "metadata": {},
   "outputs": [],
   "source": [
    "def simplicidad_unitaria(rules):\n",
    "    unitaria_terminal = {}\n",
    "    for key in rules:\n",
    "        unitaria = list(key)\n",
    "        contador = 0\n",
    "        while contador < len(unitaria):\n",
    "            B = unitaria[contador]\n",
    "            if B in rules:\n",
    "                for production in rules[B]:\n",
    "                    if len(production) == 1 and production.isupper() and production not in unitaria:\n",
    "                        unitaria.append(production)\n",
    "            contador += 1\n",
    "        unitaria_terminal[key] = unitaria\n",
    "    \n",
    "    print(f'unitaria terminal: {unitaria_terminal}')\n",
    "\n",
    "    new_rules = {}\n",
    "    for key in rules:\n",
    "        new_rules[key] = []\n",
    "        for i in unitaria_terminal[key]:\n",
    "            if i in rules:\n",
    "                for production in rules[i]:\n",
    "                    if not(len(production) == 1 and production.isupper()):\n",
    "                        new_rules[key].append(production)\n",
    "\n",
    "    print(f'new rules: {new_rules}')\n",
    "\n",
    "    no_unitarias = ['S']\n",
    "    stack = ['S']\n",
    "\n",
    "    while stack:\n",
    "        current_value = stack.pop()\n",
    "        if current_value in new_rules:\n",
    "            for production in new_rules[current_value]:\n",
    "                for char in production:\n",
    "                    if char.isupper() and char not in no_unitarias:\n",
    "                        no_unitarias.append(char)\n",
    "                        stack.append(char)\n",
    "    print(f'stack:{stack}')\n",
    "    print(f'no unitary: {no_unitarias}')\n",
    "\n",
    "    final = {}\n",
    "\n",
    "    for key in no_unitarias:\n",
    "        if key in new_rules:\n",
    "            final[key] = new_rules[key]\n",
    "\n",
    "    return final"
   ]
  },
  {
   "cell_type": "code",
   "execution_count": 84,
   "id": "a12adbd0",
   "metadata": {},
   "outputs": [
    {
     "name": "stdout",
     "output_type": "stream",
     "text": [
      "unitaria terminal: {'S': ['S'], 'A': ['A', 'E'], 'B': ['B', 'C', 'D'], 'C': ['C', 'D'], 'D': ['D'], 'E': ['E']}\n",
      "new rules: {'S': ['AB'], 'A': ['a'], 'B': ['b'], 'C': ['b'], 'D': ['b'], 'E': ['a']}\n",
      "stack:[]\n",
      "no unitary: ['S', 'A', 'B']\n"
     ]
    },
    {
     "data": {
      "text/plain": [
       "{'S': ['AB'], 'A': ['a'], 'B': ['b']}"
      ]
     },
     "execution_count": 84,
     "metadata": {},
     "output_type": "execute_result"
    }
   ],
   "source": [
    "r = {\n",
    "    'S': ['bA', 'aB'],\n",
    "    'A': ['bAA', 'aS', 'a'],\n",
    "    'B': ['aBB', 'bS', 'a']\n",
    "}\n",
    "simplicidad_unitaria(rules)"
   ]
  },
  {
   "cell_type": "markdown",
   "id": "bdb081ff",
   "metadata": {},
   "source": [
    "## Simplicidad por epsilon-producciones"
   ]
  },
  {
   "cell_type": "code",
   "execution_count": 440,
   "id": "87cb9ae7",
   "metadata": {},
   "outputs": [],
   "source": [
    "def epsilon_producciones(rules):\n",
    "    epsilon = [] #todos los elementos que pueden llevar a epsilon\n",
    "\n",
    "    for k, v in rules.items():\n",
    "        if 'epsilon' in v and k not in epsilon: #una de las producciones contiene epsilon?\n",
    "            epsilon.append(k)\n",
    "    # print(epsilon)\n",
    "    updates = True\n",
    "\n",
    "    while updates: #mientras exista un epsilon...\n",
    "        updates = False\n",
    "\n",
    "        for k, v in rules.items():\n",
    "            if k in epsilon: #si key está, avanzamos\n",
    "                continue\n",
    "            for production in v: #comparar producción contra todas\n",
    "                condition_epsilon = True #puede haber epsilon\n",
    "\n",
    "                for char in production: #por cada caracter de producción\n",
    "                    # print(f'char: {char}')\n",
    "                    if char not in epsilon: #si caracter no está en epsilon; a no en [X]\n",
    "                        condition_epsilon = False #no existe epsilon\n",
    "                        break\n",
    "\n",
    "                if condition_epsilon: #si hay.. se añade a epsilon\n",
    "                    # print('yes')\n",
    "                    epsilon.append(k)\n",
    "                    updates = True\n",
    "                    break\n",
    "\n",
    "    new_rules_epsilon = {}\n",
    "\n",
    "    for k,v in rules.items():\n",
    "        new_rules_epsilon[k] = []\n",
    "        for production in v:\n",
    "            if production == 'epsilon': #eliminar epsilon\n",
    "                # print('oh',production)\n",
    "                continue\n",
    "\n",
    "            if production not in new_rules_epsilon[k]:\n",
    "                new_rules_epsilon[k].append(production)\n",
    "            # print(new_rules_epsilon)\n",
    "\n",
    "            pos_epsilon = []\n",
    "\n",
    "            for i in range(len(production)):\n",
    "                if production[i] in epsilon:\n",
    "                    pos_epsilon.append(i)\n",
    "\n",
    "            combinations = [[]]\n",
    "\n",
    "            for pos in pos_epsilon:\n",
    "                new_combinations = []\n",
    "                for c in combinations:\n",
    "                    new_combinations.append(c)\n",
    "                    new_combinations.append(c + [pos])\n",
    "\n",
    "                combinations = new_combinations\n",
    "\n",
    "            for comb in combinations:\n",
    "                if not comb:\n",
    "                    continue\n",
    "                new_production = \"\"\n",
    "\n",
    "                for i in range(len(production)):\n",
    "                    if i not in comb:\n",
    "                        new_production += production[i]\n",
    "                if new_production != \"\" and new_production not in new_rules_epsilon[k]:\n",
    "                    new_rules_epsilon[k].append(new_production)\n",
    "                    \n",
    "    # print(new_rules_epsilon)\n",
    "    return new_rules_epsilon"
   ]
  },
  {
   "cell_type": "code",
   "execution_count": 443,
   "id": "7e759f2d",
   "metadata": {},
   "outputs": [
    {
     "data": {
      "text/plain": [
       "{'S': ['aX', 'a', 'bX', 'b'], 'X': ['a', 'b']}"
      ]
     },
     "execution_count": 443,
     "metadata": {},
     "output_type": "execute_result"
    }
   ],
   "source": [
    "rules = {\n",
    "    \"S\": [\"aX\", \"bX\"],\n",
    "    \"X\": [\"a\", \"b\", \"epsilon\"]  # 'e' representa épsilon\n",
    "}\n",
    "epsilon_producciones(rules)"
   ]
  },
  {
   "cell_type": "markdown",
   "id": "062614b2",
   "metadata": {},
   "source": [
    "## Forma Normal de Chomsky (FNC)"
   ]
  },
  {
   "cell_type": "code",
   "execution_count": null,
   "id": "0359e045",
   "metadata": {},
   "outputs": [],
   "source": [
    "unificacion_no_recursiva(rules)\n",
    "simbolos_redundantes(rules)\n",
    "simplicidad_unitaria(rules)\n",
    "epsilon_producciones(rules)"
   ]
  },
  {
   "cell_type": "code",
   "execution_count": 468,
   "id": "240f01b5",
   "metadata": {},
   "outputs": [
    {
     "data": {
      "text/plain": [
       "{'S': ['bA', 'aB'], 'A': ['bAA', 'aS', 'a'], 'B': ['aBB', 'bS', 'a']}"
      ]
     },
     "execution_count": 468,
     "metadata": {},
     "output_type": "execute_result"
    }
   ],
   "source": [
    "rules"
   ]
  },
  {
   "cell_type": "code",
   "execution_count": 469,
   "id": "c719c9a1",
   "metadata": {},
   "outputs": [],
   "source": [
    "# #1.Revisar si tiene recursividad a la izquierda: inmediata\n",
    "# for k, v in rules.items():\n",
    "#     for production in v:\n",
    "#         if production.startswith(k):\n",
    "#             print('yes')\n",
    "\n",
    "#reucrisivdad izquierda indirecta\n",
    "\n",
    "# rules = {\n",
    "#     'S': ['Aa', 'b'],\n",
    "#     'A': ['Sc', 'd']\n",
    "# }\n",
    "\n",
    "orden = []\n",
    "for k, v in rules.items():\n",
    "    orden.append(k)\n",
    "\n",
    "for i in range(len(orden)):\n",
    "    Ai = orden[i]\n",
    "    for j in range(i):\n",
    "        Aj = orden[j]\n",
    "        new = []\n",
    "        for production in rules[Ai]:\n",
    "            if production.startswith(Aj):\n",
    "                for prod_aj in rules[Aj]:\n",
    "                    new.append(prod_aj + production[1:])\n",
    "            else:\n",
    "                new.append(production)\n",
    "        rules[Ai] = new\n",
    "\n",
    "#recursion inmediata\n",
    "new_rules = {}\n",
    "for i in orden:\n",
    "    alphas = []\n",
    "    betas = []\n",
    "    for production in rules[i]:\n",
    "        if production.startswith(i):\n",
    "            alphas.append(production[len(i):])\n",
    "        else:\n",
    "            betas.append(production)\n",
    "\n",
    "    if alphas:\n",
    "        dash = i + \"'\"\n",
    "        new_rules[i] = [beta + dash for beta in betas]\n",
    "        new_rules[dash] = [alpha + dash for alpha in alphas]\n",
    "        new_rules[dash].append('epsilon')\n",
    "    else:\n",
    "        new_rules[i] = rules[i]\n"
   ]
  },
  {
   "cell_type": "code",
   "execution_count": 470,
   "id": "1637b4b5",
   "metadata": {},
   "outputs": [
    {
     "data": {
      "text/plain": [
       "{'S': ['bA', 'aB'], 'A': ['bAA', 'aS', 'a'], 'B': ['aBB', 'bS', 'a']}"
      ]
     },
     "execution_count": 470,
     "metadata": {},
     "output_type": "execute_result"
    }
   ],
   "source": [
    "new_rules"
   ]
  },
  {
   "cell_type": "code",
   "execution_count": 475,
   "id": "3929517e",
   "metadata": {},
   "outputs": [
    {
     "data": {
      "text/plain": [
       "{'S': ['bA', 'aB'], 'A': ['bAA', 'aS', 'a'], 'B': ['aBB', 'bS', 'a']}"
      ]
     },
     "execution_count": 475,
     "metadata": {},
     "output_type": "execute_result"
    }
   ],
   "source": [
    "epsilon_producciones(new_rules)"
   ]
  },
  {
   "cell_type": "code",
   "execution_count": 476,
   "id": "dd8e38c9",
   "metadata": {},
   "outputs": [
    {
     "data": {
      "text/plain": [
       "{'S': ['bA', 'aB'], 'A': ['bAA'], 'B': ['aBB']}"
      ]
     },
     "execution_count": 476,
     "metadata": {},
     "output_type": "execute_result"
    }
   ],
   "source": [
    "simplicidad_unitaria(new_rules)"
   ]
  },
  {
   "cell_type": "code",
   "execution_count": 477,
   "id": "89f0131e",
   "metadata": {},
   "outputs": [
    {
     "data": {
      "text/plain": [
       "{'S': ['bA', 'aB'], 'A': ['bAA', 'aS', 'a']}"
      ]
     },
     "execution_count": 477,
     "metadata": {},
     "output_type": "execute_result"
    }
   ],
   "source": [
    "simbolos_redundantes(new_rules)"
   ]
  },
  {
   "cell_type": "code",
   "execution_count": null,
   "id": "aa736c6f",
   "metadata": {},
   "outputs": [],
   "source": []
  }
 ],
 "metadata": {
  "kernelspec": {
   "display_name": "Python 3",
   "language": "python",
   "name": "python3"
  },
  "language_info": {
   "codemirror_mode": {
    "name": "ipython",
    "version": 3
   },
   "file_extension": ".py",
   "mimetype": "text/x-python",
   "name": "python",
   "nbconvert_exporter": "python",
   "pygments_lexer": "ipython3",
   "version": "3.13.2"
  }
 },
 "nbformat": 4,
 "nbformat_minor": 5
}
