{
 "cells": [
  {
   "cell_type": "markdown",
   "id": "b3af7832",
   "metadata": {},
   "source": [
    "# Gramática Libre de Contexto\n",
    "## Lectura de archivos"
   ]
  },
  {
   "cell_type": "code",
   "execution_count": 82,
   "id": "91d21b16",
   "metadata": {},
   "outputs": [],
   "source": [
    "file = open(r\"C:\\Users\\hrosa\\OneDrive\\Documentos\\CIC IPN\\Primer Semestre\\Teoria Computacion\\GLC\\GLC.txt\")"
   ]
  },
  {
   "cell_type": "code",
   "execution_count": 83,
   "id": "d5dc3b36",
   "metadata": {},
   "outputs": [],
   "source": [
    "content = file.read()"
   ]
  },
  {
   "cell_type": "code",
   "execution_count": 84,
   "id": "4d3cb5ea",
   "metadata": {},
   "outputs": [
    {
     "data": {
      "text/plain": [
       "['A -> abB | aB | cdg | cdeB | cdfB']"
      ]
     },
     "execution_count": 84,
     "metadata": {},
     "output_type": "execute_result"
    }
   ],
   "source": [
    "content.split('\\n')"
   ]
  },
  {
   "cell_type": "code",
   "execution_count": 85,
   "id": "0cf753ad",
   "metadata": {},
   "outputs": [],
   "source": [
    "# split_content = content.split('\\n')\n",
    "# stack = []\n",
    "# for i in split_content:\n",
    "#     rules = []\n",
    "#     for j in i.split():\n",
    "#         rules.append([j])\n",
    "#     stack.append(rules)\n",
    "#     # print(i)\n",
    "\n",
    "# print(f'stack: {stack}')\n",
    "\n",
    "split_content = content.split('\\n')\n",
    "stack = []\n",
    "for r in split_content:\n",
    "    rules = []\n",
    "    for s in r.split():\n",
    "        rules.append([s])\n",
    "    stack.append(rules)\n"
   ]
  },
  {
   "cell_type": "code",
   "execution_count": 86,
   "id": "d65bcac7",
   "metadata": {},
   "outputs": [],
   "source": [
    "# rules = []\n",
    "# for i in stack:\n",
    "#     print(i)\n",
    "#     rules.append([i.split()])\n",
    "# print(f'rules:{rules}')"
   ]
  },
  {
   "cell_type": "code",
   "execution_count": 87,
   "id": "2f227cc2",
   "metadata": {},
   "outputs": [],
   "source": [
    "# print(f'{rules[0]},\\n {rules[1]}')"
   ]
  },
  {
   "cell_type": "code",
   "execution_count": 88,
   "id": "c790e93b",
   "metadata": {},
   "outputs": [
    {
     "name": "stdout",
     "output_type": "stream",
     "text": [
      "['abB']\n",
      "['abB', 'aB']\n",
      "['abB', 'aB', 'cdg']\n",
      "['abB', 'aB', 'cdg', 'cdeB']\n",
      "['abB', 'aB', 'cdg', 'cdeB', 'cdfB']\n",
      "rules{'A': ['abB', 'aB', 'cdg', 'cdeB', 'cdfB']}\n"
     ]
    }
   ],
   "source": [
    "#se crean los diccionarios de cada regla de inferencia\n",
    "rules = {}\n",
    "for i in stack:\n",
    "    head = i[0][0]\n",
    "    productions = []\n",
    "    for j in i[2:]:\n",
    "        if j[0] != '|':\n",
    "            productions.append(j[0])\n",
    "            print(productions)\n",
    "    rules[head] = productions\n",
    "print(f'rules{rules}')"
   ]
  },
  {
   "cell_type": "code",
   "execution_count": 89,
   "id": "e1dba4b3",
   "metadata": {},
   "outputs": [
    {
     "name": "stdout",
     "output_type": "stream",
     "text": [
      "k:A\n",
      "v:['abB', 'aB', 'cdg', 'cdeB', 'cdfB']\n",
      "HOLA IabB\n",
      "j:aB != i:abB\n",
      "j:cdg != i:abB\n",
      "j:cdeB != i:abB\n",
      "j:cdfB != i:abB\n",
      "HOLA IaB\n",
      "j:abB != i:aB\n",
      "j:cdg != i:aB\n",
      "j:cdeB != i:aB\n",
      "j:cdfB != i:aB\n",
      "HOLA Icdg\n",
      "j:abB != i:cdg\n",
      "j:aB != i:cdg\n",
      "j:cdeB != i:cdg\n",
      "j:cdfB != i:cdg\n",
      "HOLA IcdeB\n",
      "j:abB != i:cdeB\n",
      "j:aB != i:cdeB\n",
      "j:cdg != i:cdeB\n",
      "j:cdfB != i:cdeB\n",
      "HOLA IcdfB\n",
      "j:abB != i:cdfB\n",
      "j:aB != i:cdfB\n",
      "j:cdg != i:cdfB\n",
      "j:cdeB != i:cdfB\n",
      "{'a': ['bB', 'B'], 'cd': ['g', 'eB', 'fB']}\n",
      "new rules: {'a': ['bB', 'B'], 'cd': ['g', 'eB', 'fB']}\n"
     ]
    }
   ],
   "source": [
    "#simplificacion de unificacion no recursiva\n",
    "for k,v in rules.items():\n",
    "    print(f'k:{k}')\n",
    "    print(f'v:{v}')\n",
    "    first = {}\n",
    "    for i in v: #por cada elemento de producciones\n",
    "        max_prefix = i #como no se tiene compun, se toma todo el elemento\n",
    "        print(f'HOLA I{i}')\n",
    "        for j in v: #por cada aparición de elemento: comparar contra los demás\n",
    "            if j != i: #si esa comparación no es igual\n",
    "                print(f'j:{j} != i:{i}')\n",
    "                prefix_common = \"\" #se inicializa en cero, porque aún no hay prefijo comúb\n",
    "                compare = 1 #caracter en común en comparación \n",
    "                #mientras no tenga longitud mayor y haya comun\n",
    "                #compare 1: a == a\n",
    "                #compare 2: ab != B\n",
    "                while compare <= len(i) and compare <= len(j) and i[:compare] == j[:compare]:\n",
    "                    prefix_common = i[:compare]\n",
    "                    compare += 1\n",
    "\n",
    "                counter = 0\n",
    "                for production in v: #cuenta # de elementos con prefijo compun\n",
    "                    if production.startswith(prefix_common):\n",
    "                        counter += 1\n",
    "                if prefix_common and counter > 1: #actualizar el término más común\n",
    "                    max_prefix = prefix_common\n",
    "\n",
    "        prefix_found = max_prefix\n",
    "        body = i[len(prefix_found):] #no incluir el prefijo común\n",
    "\n",
    "        if prefix_found not in first:\n",
    "            first[prefix_found] = []\n",
    "        first[prefix_found].append(body)\n",
    "    print(first)\n",
    "\n",
    "print(f'new rules: {first}')"
   ]
  },
  {
   "cell_type": "code",
   "execution_count": 92,
   "id": "d9a96365",
   "metadata": {},
   "outputs": [
    {
     "name": "stdout",
     "output_type": "stream",
     "text": [
      "{'A': ['abB', 'aB', 'cdg', 'cdeB', 'cdfB']}\n",
      "new rules: {'A': ['aR1', 'cdR2'], 'R1': ['bB', 'B'], 'R2': ['g', 'eB', 'fB']}\n"
     ]
    }
   ],
   "source": [
    "new_rules = {}\n",
    "counter_r = 1\n",
    "print(rules)\n",
    "origin_rules = None\n",
    "for k, v in rules.items():\n",
    "    origin_rules = k\n",
    "\n",
    "productions_origin = []\n",
    "\n",
    "for k,v in first.items():\n",
    "    if len(v) == 1: #si solo hay una producción:\n",
    "        new_rules[k] = v\n",
    "        productions_origin.append(k+v[0])\n",
    "    else:\n",
    "        aux = f\"R{counter_r}\"\n",
    "        counter_r += 1\n",
    "        new_rules[aux] = v\n",
    "        productions_origin.append(k+aux)\n",
    "\n",
    "rules_unified = {origin_rules:productions_origin}\n",
    "for k,v in new_rules.items():\n",
    "    rules_unified[k] = v\n",
    "\n",
    "print(f'new rules: {rules_unified}')"
   ]
  },
  {
   "cell_type": "code",
   "execution_count": 91,
   "id": "de01e683",
   "metadata": {},
   "outputs": [
    {
     "name": "stdout",
     "output_type": "stream",
     "text": [
      "A->aR1|cdR2\n",
      "R1->bB|B\n",
      "R2->g|eB|fB\n"
     ]
    }
   ],
   "source": [
    "for k,v in rules_unified.items():\n",
    "    print(f'{k}->{\"|\".join(v)}')\n"
   ]
  },
  {
   "cell_type": "code",
   "execution_count": null,
   "id": "158e281e",
   "metadata": {},
   "outputs": [],
   "source": []
  },
  {
   "cell_type": "code",
   "execution_count": null,
   "id": "6cb76707",
   "metadata": {},
   "outputs": [],
   "source": []
  }
 ],
 "metadata": {
  "kernelspec": {
   "display_name": "Python 3",
   "language": "python",
   "name": "python3"
  },
  "language_info": {
   "codemirror_mode": {
    "name": "ipython",
    "version": 3
   },
   "file_extension": ".py",
   "mimetype": "text/x-python",
   "name": "python",
   "nbconvert_exporter": "python",
   "pygments_lexer": "ipython3",
   "version": "3.13.2"
  }
 },
 "nbformat": 4,
 "nbformat_minor": 5
}
