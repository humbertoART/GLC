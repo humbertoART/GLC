{
 "cells": [
  {
   "cell_type": "markdown",
   "id": "b3af7832",
   "metadata": {},
   "source": [
    "# Gramática Libre de Contexto\n",
    "## Lectura de archivos"
   ]
  },
  {
   "cell_type": "code",
   "execution_count": 79,
   "id": "91d21b16",
   "metadata": {},
   "outputs": [],
   "source": [
    "file = open(r\"C:\\Users\\hrosa\\OneDrive\\Documentos\\CIC IPN\\Primer Semestre\\Teoria Computacion\\GLC\\GLC.txt\")"
   ]
  },
  {
   "cell_type": "code",
   "execution_count": 80,
   "id": "d5dc3b36",
   "metadata": {},
   "outputs": [],
   "source": [
    "content = file.read()"
   ]
  },
  {
   "cell_type": "code",
   "execution_count": 81,
   "id": "4d3cb5ea",
   "metadata": {},
   "outputs": [
    {
     "data": {
      "text/plain": [
       "['A -> abB | aB | cdg | cdeB | cdfB']"
      ]
     },
     "execution_count": 81,
     "metadata": {},
     "output_type": "execute_result"
    }
   ],
   "source": [
    "content.split('\\n')"
   ]
  },
  {
   "cell_type": "code",
   "execution_count": 82,
   "id": "0cf753ad",
   "metadata": {},
   "outputs": [],
   "source": [
    "# split_content = content.split('\\n')\n",
    "# stack = []\n",
    "# for i in split_content:\n",
    "#     rules = []\n",
    "#     for j in i.split():\n",
    "#         rules.append([j])\n",
    "#     stack.append(rules)\n",
    "#     # print(i)\n",
    "\n",
    "# print(f'stack: {stack}')\n",
    "\n",
    "split_content = content.split('\\n')\n",
    "stack = []\n",
    "for r in split_content:\n",
    "    rules = []\n",
    "    for s in r.split():\n",
    "        rules.append([s])\n",
    "    stack.append(rules)\n"
   ]
  },
  {
   "cell_type": "code",
   "execution_count": 83,
   "id": "d65bcac7",
   "metadata": {},
   "outputs": [],
   "source": [
    "# rules = []\n",
    "# for i in stack:\n",
    "#     print(i)\n",
    "#     rules.append([i.split()])\n",
    "# print(f'rules:{rules}')"
   ]
  },
  {
   "cell_type": "code",
   "execution_count": 84,
   "id": "2f227cc2",
   "metadata": {},
   "outputs": [],
   "source": [
    "# print(f'{rules[0]},\\n {rules[1]}')"
   ]
  },
  {
   "cell_type": "code",
   "execution_count": 85,
   "id": "c790e93b",
   "metadata": {},
   "outputs": [
    {
     "name": "stdout",
     "output_type": "stream",
     "text": [
      "['abB']\n",
      "['abB', 'aB']\n",
      "['abB', 'aB', 'cdg']\n",
      "['abB', 'aB', 'cdg', 'cdeB']\n",
      "['abB', 'aB', 'cdg', 'cdeB', 'cdfB']\n",
      "rules{'A': ['abB', 'aB', 'cdg', 'cdeB', 'cdfB']}\n"
     ]
    }
   ],
   "source": [
    "#se crean los diccionarios de cada regla de inferencia\n",
    "rules = {}\n",
    "for i in stack:\n",
    "    head = i[0][0]\n",
    "    productions = []\n",
    "    for j in i[2:]:\n",
    "        if j[0] != '|':\n",
    "            productions.append(j[0])\n",
    "            print(productions)\n",
    "    rules[head] = productions\n",
    "print(f'rules{rules}')"
   ]
  },
  {
   "cell_type": "code",
   "execution_count": null,
   "id": "e1dba4b3",
   "metadata": {},
   "outputs": [
    {
     "name": "stdout",
     "output_type": "stream",
     "text": [
      "k:A\n",
      "v:['abB', 'aB', 'cdg', 'cdeB', 'cdfB']\n",
      "a\n",
      "body:bB\n",
      "a\n",
      "body:B\n",
      "c\n",
      "body:dg\n",
      "c\n",
      "body:deB\n",
      "c\n",
      "body:dfB\n",
      "{'a': ['bB', 'B'], 'c': ['dg', 'deB', 'dfB']}\n",
      "a\n",
      "c\n",
      "new rules: []\n"
     ]
    }
   ],
   "source": [
    "#simplificacion de unificacion no recursiva\n",
    "result = []\n",
    "for k,v in rules.items():\n",
    "    print(f'k:{k}')\n",
    "    print(f'v:{v}')\n",
    "    first = {}\n",
    "    for i in v: #por cada elemento de producciones\n",
    "        first_item = i[0]\n",
    "        print(first_item)\n",
    "        body = i[1:]\n",
    "        print(f'body:{body}')\n",
    "\n",
    "        if first_item not in first: #si primer elemento no está en nuevo dic\n",
    "            first[first_item] = []\n",
    "        first[first_item].append(body) #si forma parte del primer elemento, agregar body\n",
    "    print(first)\n",
    "\n",
    "new_rules = {}\n",
    "for k,v in first.items():\n",
    "    print(k)\n",
    "    if len(v) == 1: #si solo hay una producción:\n",
    "        new_rules[k].append(v)\n",
    "\n",
    "print(f'new rules: {result}')"
   ]
  },
  {
   "cell_type": "code",
   "execution_count": 87,
   "id": "d9a96365",
   "metadata": {},
   "outputs": [
    {
     "data": {
      "text/plain": [
       "dict_items([('A', ['abB', 'aB', 'cdg', 'cdeB', 'cdfB'])])"
      ]
     },
     "execution_count": 87,
     "metadata": {},
     "output_type": "execute_result"
    }
   ],
   "source": [
    "rules.items()"
   ]
  },
  {
   "cell_type": "code",
   "execution_count": null,
   "id": "de01e683",
   "metadata": {},
   "outputs": [],
   "source": [
    "\n"
   ]
  },
  {
   "cell_type": "code",
   "execution_count": null,
   "id": "158e281e",
   "metadata": {},
   "outputs": [],
   "source": []
  }
 ],
 "metadata": {
  "kernelspec": {
   "display_name": "Python 3",
   "language": "python",
   "name": "python3"
  },
  "language_info": {
   "codemirror_mode": {
    "name": "ipython",
    "version": 3
   },
   "file_extension": ".py",
   "mimetype": "text/x-python",
   "name": "python",
   "nbconvert_exporter": "python",
   "pygments_lexer": "ipython3",
   "version": "3.13.2"
  }
 },
 "nbformat": 4,
 "nbformat_minor": 5
}
