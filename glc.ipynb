{
 "cells": [
  {
   "cell_type": "markdown",
   "id": "b3af7832",
   "metadata": {},
   "source": [
    "# Gramática Libre de Contexto\n",
    "## Lectura de archivos"
   ]
  },
  {
   "cell_type": "code",
   "execution_count": 74,
   "id": "91d21b16",
   "metadata": {},
   "outputs": [],
   "source": [
    "file = open(r\"C:\\Users\\hrosa\\OneDrive\\Documentos\\CIC IPN\\Primer Semestre\\Teoria Computacion\\GLC\\GLC.txt\")"
   ]
  },
  {
   "cell_type": "code",
   "execution_count": 75,
   "id": "d5dc3b36",
   "metadata": {},
   "outputs": [],
   "source": [
    "content = file.read()"
   ]
  },
  {
   "cell_type": "code",
   "execution_count": 76,
   "id": "4d3cb5ea",
   "metadata": {},
   "outputs": [
    {
     "data": {
      "text/plain": [
       "['S -> AB', 'A -> E', 'B -> C', 'C -> D', 'D -> b', 'E -> a']"
      ]
     },
     "execution_count": 76,
     "metadata": {},
     "output_type": "execute_result"
    }
   ],
   "source": [
    "content.split('\\n')"
   ]
  },
  {
   "cell_type": "code",
   "execution_count": 77,
   "id": "0cf753ad",
   "metadata": {},
   "outputs": [],
   "source": [
    "# split_content = content.split('\\n')\n",
    "# stack = []\n",
    "# for i in split_content:\n",
    "#     rules = []\n",
    "#     for j in i.split():\n",
    "#         rules.append([j])\n",
    "#     stack.append(rules)\n",
    "#     # print(i)\n",
    "\n",
    "# print(f'stack: {stack}')\n",
    "\n",
    "split_content = content.split('\\n')\n",
    "stack = []\n",
    "for r in split_content:\n",
    "    rules = []\n",
    "    for s in r.split():\n",
    "        rules.append([s])\n",
    "    stack.append(rules)\n"
   ]
  },
  {
   "cell_type": "code",
   "execution_count": 78,
   "id": "d65bcac7",
   "metadata": {},
   "outputs": [],
   "source": [
    "# rules = []\n",
    "# for i in stack:\n",
    "#     print(i)\n",
    "#     rules.append([i.split()])\n",
    "# print(f'rules:{rules}')"
   ]
  },
  {
   "cell_type": "code",
   "execution_count": 79,
   "id": "2f227cc2",
   "metadata": {},
   "outputs": [],
   "source": [
    "# print(f'{rules[0]},\\n {rules[1]}')"
   ]
  },
  {
   "cell_type": "code",
   "execution_count": 80,
   "id": "c790e93b",
   "metadata": {},
   "outputs": [
    {
     "name": "stdout",
     "output_type": "stream",
     "text": [
      "['AB']\n",
      "['E']\n",
      "['C']\n",
      "['D']\n",
      "['b']\n",
      "['a']\n",
      "rules{'S': ['AB'], 'A': ['E'], 'B': ['C'], 'C': ['D'], 'D': ['b'], 'E': ['a']}\n"
     ]
    }
   ],
   "source": [
    "#se crean los diccionarios de cada regla de inferencia\n",
    "rules = {}\n",
    "for i in stack:\n",
    "    head = i[0][0]\n",
    "    productions = []\n",
    "    for j in i[2:]:\n",
    "        if j[0] != '|':\n",
    "            productions.append(j[0])\n",
    "            print(productions)\n",
    "    rules[head] = productions\n",
    "print(f'rules{rules}')"
   ]
  },
  {
   "cell_type": "markdown",
   "id": "f00f73a6",
   "metadata": {},
   "source": [
    "## Simplificación de unificación no recursiva"
   ]
  },
  {
   "cell_type": "code",
   "execution_count": 89,
   "id": "e1dba4b3",
   "metadata": {},
   "outputs": [
    {
     "name": "stdout",
     "output_type": "stream",
     "text": [
      "k:A\n",
      "v:['abB', 'aB', 'cdg', 'cdeB', 'cdfB']\n",
      "HOLA IabB\n",
      "j:aB != i:abB\n",
      "j:cdg != i:abB\n",
      "j:cdeB != i:abB\n",
      "j:cdfB != i:abB\n",
      "HOLA IaB\n",
      "j:abB != i:aB\n",
      "j:cdg != i:aB\n",
      "j:cdeB != i:aB\n",
      "j:cdfB != i:aB\n",
      "HOLA Icdg\n",
      "j:abB != i:cdg\n",
      "j:aB != i:cdg\n",
      "j:cdeB != i:cdg\n",
      "j:cdfB != i:cdg\n",
      "HOLA IcdeB\n",
      "j:abB != i:cdeB\n",
      "j:aB != i:cdeB\n",
      "j:cdg != i:cdeB\n",
      "j:cdfB != i:cdeB\n",
      "HOLA IcdfB\n",
      "j:abB != i:cdfB\n",
      "j:aB != i:cdfB\n",
      "j:cdg != i:cdfB\n",
      "j:cdeB != i:cdfB\n",
      "{'a': ['bB', 'B'], 'cd': ['g', 'eB', 'fB']}\n",
      "new rules: {'a': ['bB', 'B'], 'cd': ['g', 'eB', 'fB']}\n"
     ]
    }
   ],
   "source": [
    "#simplificacion de unificacion no recursiva\n",
    "for k,v in rules.items():\n",
    "    print(f'k:{k}')\n",
    "    print(f'v:{v}')\n",
    "    first = {}\n",
    "    for i in v: #por cada elemento de producciones\n",
    "        max_prefix = i #como no se tiene compun, se toma todo el elemento\n",
    "        print(f'HOLA I{i}')\n",
    "        for j in v: #por cada aparición de elemento: comparar contra los demás\n",
    "            if j != i: #si esa comparación no es igual\n",
    "                print(f'j:{j} != i:{i}')\n",
    "                prefix_common = \"\" #se inicializa en cero, porque aún no hay prefijo comúb\n",
    "                compare = 1 #caracter en común en comparación \n",
    "                #mientras no tenga longitud mayor y haya comun\n",
    "                #compare 1: a == a\n",
    "                #compare 2: ab != B\n",
    "                while compare <= len(i) and compare <= len(j) and i[:compare] == j[:compare]:\n",
    "                    prefix_common = i[:compare]\n",
    "                    compare += 1\n",
    "\n",
    "                counter = 0\n",
    "                for production in v: #cuenta # de elementos con prefijo compun\n",
    "                    if production.startswith(prefix_common):\n",
    "                        counter += 1\n",
    "                if prefix_common and counter > 1: #actualizar el término más común\n",
    "                    max_prefix = prefix_common\n",
    "\n",
    "        prefix_found = max_prefix\n",
    "        body = i[len(prefix_found):] #no incluir el prefijo común\n",
    "\n",
    "        if prefix_found not in first:\n",
    "            first[prefix_found] = []\n",
    "        first[prefix_found].append(body)\n",
    "    print(first)\n",
    "\n",
    "print(f'new rules: {first}')"
   ]
  },
  {
   "cell_type": "code",
   "execution_count": 92,
   "id": "d9a96365",
   "metadata": {},
   "outputs": [
    {
     "name": "stdout",
     "output_type": "stream",
     "text": [
      "{'A': ['abB', 'aB', 'cdg', 'cdeB', 'cdfB']}\n",
      "new rules: {'A': ['aR1', 'cdR2'], 'R1': ['bB', 'B'], 'R2': ['g', 'eB', 'fB']}\n"
     ]
    }
   ],
   "source": [
    "new_rules = {}\n",
    "counter_r = 1\n",
    "print(rules)\n",
    "origin_rules = None\n",
    "for k, v in rules.items():\n",
    "    origin_rules = k\n",
    "\n",
    "productions_origin = []\n",
    "\n",
    "for k,v in first.items():\n",
    "    if len(v) == 1: #si solo hay una producción:\n",
    "        new_rules[k] = v\n",
    "        productions_origin.append(k+v[0])\n",
    "    else:\n",
    "        aux = f\"R{counter_r}\"\n",
    "        counter_r += 1\n",
    "        new_rules[aux] = v\n",
    "        productions_origin.append(k+aux)\n",
    "\n",
    "rules_unified = {origin_rules:productions_origin}\n",
    "for k,v in new_rules.items():\n",
    "    rules_unified[k] = v\n",
    "\n",
    "print(f'new rules: {rules_unified}')"
   ]
  },
  {
   "cell_type": "code",
   "execution_count": 91,
   "id": "de01e683",
   "metadata": {},
   "outputs": [
    {
     "name": "stdout",
     "output_type": "stream",
     "text": [
      "A->aR1|cdR2\n",
      "R1->bB|B\n",
      "R2->g|eB|fB\n"
     ]
    }
   ],
   "source": [
    "for k,v in rules_unified.items():\n",
    "    print(f'{k}->{\"|\".join(v)}')\n"
   ]
  },
  {
   "cell_type": "markdown",
   "id": "a2430537",
   "metadata": {},
   "source": [
    "## Simplicidad de símbolos redundantes\n",
    "1. variables no productivas.\n",
    "2. variables inalcanzables."
   ]
  },
  {
   "cell_type": "code",
   "execution_count": 66,
   "id": "158e281e",
   "metadata": {},
   "outputs": [
    {
     "data": {
      "text/plain": [
       "[[['S'], ['->'], ['aC'], ['|'], ['SB']],\n",
       " [['A'], ['->'], ['bSCa'], ['|'], ['ad']],\n",
       " [['B'], ['->'], ['aSB'], ['|'], ['bBC']],\n",
       " [['C'], ['->'], ['aBC'], ['|'], ['ad']]]"
      ]
     },
     "execution_count": 66,
     "metadata": {},
     "output_type": "execute_result"
    }
   ],
   "source": [
    "stack"
   ]
  },
  {
   "cell_type": "code",
   "execution_count": 67,
   "id": "6cb76707",
   "metadata": {},
   "outputs": [
    {
     "data": {
      "text/plain": [
       "{'S': ['aC', 'SB'],\n",
       " 'A': ['bSCa', 'ad'],\n",
       " 'B': ['aSB', 'bBC'],\n",
       " 'C': ['aBC', 'ad']}"
      ]
     },
     "execution_count": 67,
     "metadata": {},
     "output_type": "execute_result"
    }
   ],
   "source": [
    "rules"
   ]
  },
  {
   "cell_type": "code",
   "execution_count": 68,
   "id": "69316248",
   "metadata": {},
   "outputs": [
    {
     "name": "stdout",
     "output_type": "stream",
     "text": [
      "k:S and v:['aC', 'SB']\n",
      "k:A and v:['bSCa', 'ad']\n",
      "k:B and v:['aSB', 'bBC']\n",
      "k:C and v:['aBC', 'ad']\n",
      "['B']\n"
     ]
    }
   ],
   "source": [
    "not_productive = []\n",
    "for k,v in rules.items():\n",
    "    print(f'k:{k} and v:{v}')\n",
    "    productive = False\n",
    "\n",
    "    for production in v:\n",
    "        terminal_count = 0\n",
    "        no_terminal_count = False\n",
    "\n",
    "        for char in production:\n",
    "            if char.islower(): #es terminal?\n",
    "                terminal_count += 1\n",
    "            if char.isupper():\n",
    "                no_terminal_count = True\n",
    "\n",
    "        if terminal_count >= 1 and not no_terminal_count:\n",
    "            productive = True\n",
    "            \n",
    "    if not productive and k != 'S':\n",
    "        not_productive.append(k)\n",
    "print(not_productive)"
   ]
  },
  {
   "cell_type": "code",
   "execution_count": 69,
   "id": "1aa347cd",
   "metadata": {},
   "outputs": [
    {
     "name": "stdout",
     "output_type": "stream",
     "text": [
      "B\n",
      "B\n",
      "{'S': ['aC'], 'A': ['bSCa', 'ad'], 'C': ['ad']}\n"
     ]
    }
   ],
   "source": [
    "filter_no_productive = {}\n",
    "for k,v in rules.items():\n",
    "    if k not in not_productive:\n",
    "        new_rules = []\n",
    "        for production in v:\n",
    "            productive = True\n",
    "            for char in production:\n",
    "                if char in not_productive:\n",
    "                    print(char)\n",
    "                    productive = False\n",
    "            if productive:\n",
    "                new_rules.append(production)\n",
    "        if new_rules:\n",
    "            filter_no_productive[k] = new_rules\n",
    "print(filter_no_productive)\n",
    "        "
   ]
  },
  {
   "cell_type": "code",
   "execution_count": 70,
   "id": "3a0619ec",
   "metadata": {},
   "outputs": [
    {
     "data": {
      "text/plain": [
       "{'S': ['aC'], 'A': ['bSCa', 'ad'], 'C': ['ad']}"
      ]
     },
     "execution_count": 70,
     "metadata": {},
     "output_type": "execute_result"
    }
   ],
   "source": [
    "filter_no_productive"
   ]
  },
  {
   "cell_type": "code",
   "execution_count": 73,
   "id": "5cd1a43d",
   "metadata": {},
   "outputs": [
    {
     "name": "stdout",
     "output_type": "stream",
     "text": [
      "rules s: ['aC']\n",
      "A\n",
      "{'S': ['aC'], 'C': ['ad']}\n"
     ]
    }
   ],
   "source": [
    "rule_s = filter_no_productive['S']\n",
    "print(f'rules s: {rule_s}')\n",
    "not_redundants = {}\n",
    "inalcanzable = None\n",
    "for k, v in filter_no_productive.items():\n",
    "    for production in v:\n",
    "        # print(production)\n",
    "        # print(f'k:{k}')\n",
    "        for i in rule_s:          \n",
    "            # print(i)\n",
    "            # print(f'---{k}')\n",
    "            if k not in i and k != 'S':\n",
    "                inalcanzable = k\n",
    "print(inalcanzable)\n",
    "\n",
    "\n",
    "for k,v in filter_no_productive.items():\n",
    "    if k != inalcanzable:\n",
    "        not_redundants[k] = v\n",
    "print(not_redundants)"
   ]
  },
  {
   "cell_type": "code",
   "execution_count": 72,
   "id": "a5db7ef0",
   "metadata": {},
   "outputs": [
    {
     "data": {
      "text/plain": [
       "['aC']"
      ]
     },
     "execution_count": 72,
     "metadata": {},
     "output_type": "execute_result"
    }
   ],
   "source": [
    "filter_no_productive['S']"
   ]
  },
  {
   "cell_type": "markdown",
   "id": "39b49f3c",
   "metadata": {},
   "source": [
    "## Simplicidad por reglas unitarias"
   ]
  },
  {
   "cell_type": "code",
   "execution_count": 120,
   "id": "0b04b6c2",
   "metadata": {},
   "outputs": [
    {
     "name": "stdout",
     "output_type": "stream",
     "text": [
      "['Y']\n",
      "consumido:['Y']\n",
      "Z\n",
      "new rules:{'S': ['Y'], 'Y': ['w']}\n"
     ]
    }
   ],
   "source": [
    "rules = {\n",
    "    'S': ['Y'],\n",
    "    'Y': ['Z'],\n",
    "    'Z': ['w'],\n",
    "    'A': ['B'],\n",
    "    'B': ['C'],\n",
    "    'C': ['D', 'E'],\n",
    "    'D': ['x'],\n",
    "    'E': ['y']\n",
    "}\n",
    "\n",
    "new_rules_unity = {}\n",
    "new_rules_unity['S'] = rules['S']\n",
    "symbols_s = []\n",
    "for k,v in new_rules_unity.items():\n",
    "    for production in v:\n",
    "        for char in production:\n",
    "            symbols_s.append(char) #se añaden los terminales en symbols_s\n",
    "\n",
    "print(symbols_s)\n",
    "\n",
    "for i in symbols_s:\n",
    "    if i.isupper():\n",
    "        current_no_terminal = i\n",
    "        consumido = []\n",
    "        #no terminal está en reglas?, es un no terminal?, es un no terminal?\n",
    "        while current_no_terminal in rules and len(rules[current_no_terminal]) == 1 and rules[current_no_terminal][0].isupper():\n",
    "            if current_no_terminal in consumido: #está ese no terminal en consumido?\n",
    "                break\n",
    "            #no está, agrégalo a consumido\n",
    "            consumido.append(current_no_terminal)\n",
    "            print(f'consumido:{consumido}')\n",
    "            current_no_terminal = rules[current_no_terminal][0] #valor de llave actual\n",
    "            print(current_no_terminal)\n",
    "        #una vez que hay un terminal...\n",
    "        if current_no_terminal in rules: #no terminal en rules?\n",
    "            new_rules_unity[i] = [rules[current_no_terminal][0]] #entonces i (A, por ejemplo) es rules['D']\n",
    "        else:\n",
    "            print('yes')\n",
    "            new_rules_unity[i] = current_no_terminal[0]\n",
    "print(f'new rules:{new_rules_unity}')"
   ]
  },
  {
   "cell_type": "code",
   "execution_count": 117,
   "id": "8875540d",
   "metadata": {},
   "outputs": [
    {
     "data": {
      "text/plain": [
       "{'S': ['AB'], 'A': ['a'], 'B': ['b']}"
      ]
     },
     "execution_count": 117,
     "metadata": {},
     "output_type": "execute_result"
    }
   ],
   "source": [
    "new_rules_unity"
   ]
  },
  {
   "cell_type": "code",
   "execution_count": null,
   "id": "0467f9a5",
   "metadata": {},
   "outputs": [],
   "source": []
  }
 ],
 "metadata": {
  "kernelspec": {
   "display_name": "Python 3",
   "language": "python",
   "name": "python3"
  },
  "language_info": {
   "codemirror_mode": {
    "name": "ipython",
    "version": 3
   },
   "file_extension": ".py",
   "mimetype": "text/x-python",
   "name": "python",
   "nbconvert_exporter": "python",
   "pygments_lexer": "ipython3",
   "version": "3.13.2"
  }
 },
 "nbformat": 4,
 "nbformat_minor": 5
}
