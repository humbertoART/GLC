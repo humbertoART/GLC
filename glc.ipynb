{
 "cells": [
  {
   "cell_type": "markdown",
   "id": "b3af7832",
   "metadata": {},
   "source": [
    "# Gramática Libre de Contexto\n",
    "## Lectura de archivos"
   ]
  },
  {
   "cell_type": "code",
   "execution_count": 369,
   "id": "91d21b16",
   "metadata": {},
   "outputs": [],
   "source": [
    "file = open(r\"C:\\Users\\hrosa\\OneDrive\\Documentos\\CIC IPN\\Primer Semestre\\Teoria Computacion\\GLC\\GLC.txt\")"
   ]
  },
  {
   "cell_type": "code",
   "execution_count": 370,
   "id": "d5dc3b36",
   "metadata": {},
   "outputs": [],
   "source": [
    "content = file.read()"
   ]
  },
  {
   "cell_type": "code",
   "execution_count": 371,
   "id": "4d3cb5ea",
   "metadata": {},
   "outputs": [
    {
     "data": {
      "text/plain": [
       "['A -> abB | aB | cdg | cdeB | cdf B']"
      ]
     },
     "execution_count": 371,
     "metadata": {},
     "output_type": "execute_result"
    }
   ],
   "source": [
    "content.split('\\n')"
   ]
  },
  {
   "cell_type": "code",
   "execution_count": 372,
   "id": "0cf753ad",
   "metadata": {},
   "outputs": [
    {
     "name": "stdout",
     "output_type": "stream",
     "text": [
      "stack: [[['A'], ['->'], ['abB'], ['|'], ['aB'], ['|'], ['cdg'], ['|'], ['cdeB'], ['|'], ['cdf'], ['B']]]\n"
     ]
    }
   ],
   "source": [
    "split_content = content.split('\\n')\n",
    "stack = []\n",
    "for r in split_content:\n",
    "    rules = []\n",
    "    for s in r.split():\n",
    "        rules.append([s])\n",
    "    stack.append(rules)\n",
    "print(f'stack: {stack}')"
   ]
  },
  {
   "cell_type": "code",
   "execution_count": null,
   "id": "c790e93b",
   "metadata": {},
   "outputs": [
    {
     "name": "stdout",
     "output_type": "stream",
     "text": [
      "['abB']\n",
      "['abB', 'aB']\n",
      "['abB', 'aB', 'cdg']\n",
      "['abB', 'aB', 'cdg', 'cdeB']\n",
      "['abB', 'aB', 'cdg', 'cdeB', 'cdf']\n",
      "['abB', 'aB', 'cdg', 'cdeB', 'cdf', 'B']\n",
      "rules{'A': ['abB', 'aB', 'cdg', 'cdeB', 'cdf', 'B']}\n"
     ]
    }
   ],
   "source": [
    "#se crean los diccionarios de cada regla de inferencia\n",
    "rules = {}\n",
    "for i in stack:\n",
    "    if not i:\n",
    "        continue\n",
    "    head = i[0][0]\n",
    "    productions = []\n",
    "    for j in i[2:]:\n",
    "        if j[0] != '|':\n",
    "            productions.append(j[0])\n",
    "            print(productions)\n",
    "    rules[head] = productions\n",
    "print(f'rules{rules}')"
   ]
  },
  {
   "cell_type": "markdown",
   "id": "f00f73a6",
   "metadata": {},
   "source": [
    "## Simplificación de unificación no recursiva"
   ]
  },
  {
   "cell_type": "code",
   "execution_count": 374,
   "id": "e1dba4b3",
   "metadata": {},
   "outputs": [
    {
     "name": "stdout",
     "output_type": "stream",
     "text": [
      "k:A\n",
      "v:['abB', 'aB', 'cdg', 'cdeB', 'cdf', 'B']\n",
      "HOLA IabB\n",
      "j:aB != i:abB\n",
      "j:cdg != i:abB\n",
      "j:cdeB != i:abB\n",
      "j:cdf != i:abB\n",
      "j:B != i:abB\n",
      "HOLA IaB\n",
      "j:abB != i:aB\n",
      "j:cdg != i:aB\n",
      "j:cdeB != i:aB\n",
      "j:cdf != i:aB\n",
      "j:B != i:aB\n",
      "HOLA Icdg\n",
      "j:abB != i:cdg\n",
      "j:aB != i:cdg\n",
      "j:cdeB != i:cdg\n",
      "j:cdf != i:cdg\n",
      "j:B != i:cdg\n",
      "HOLA IcdeB\n",
      "j:abB != i:cdeB\n",
      "j:aB != i:cdeB\n",
      "j:cdg != i:cdeB\n",
      "j:cdf != i:cdeB\n",
      "j:B != i:cdeB\n",
      "HOLA Icdf\n",
      "j:abB != i:cdf\n",
      "j:aB != i:cdf\n",
      "j:cdg != i:cdf\n",
      "j:cdeB != i:cdf\n",
      "j:B != i:cdf\n",
      "HOLA IB\n",
      "j:abB != i:B\n",
      "j:aB != i:B\n",
      "j:cdg != i:B\n",
      "j:cdeB != i:B\n",
      "j:cdf != i:B\n",
      "{'a': ['bB', 'B'], 'cd': ['g', 'eB', 'f'], 'B': ['']}\n",
      "new rules: {'a': ['bB', 'B'], 'cd': ['g', 'eB', 'f'], 'B': ['']}\n"
     ]
    }
   ],
   "source": [
    "#simplificacion de unificacion no recursiva\n",
    "for k,v in rules.items():\n",
    "    print(f'k:{k}')\n",
    "    print(f'v:{v}')\n",
    "    first = {}\n",
    "    for i in v: #por cada elemento de producciones\n",
    "        max_prefix = i #como no se tiene compun, se toma todo el elemento\n",
    "        print(f'HOLA I{i}')\n",
    "        for j in v: #por cada aparición de elemento: comparar contra los demás\n",
    "            if j != i: #si esa comparación no es igual\n",
    "                print(f'j:{j} != i:{i}')\n",
    "                prefix_common = \"\" #se inicializa en cero, porque aún no hay prefijo comúb\n",
    "                compare = 1 #caracter en común en comparación \n",
    "                #mientras no tenga longitud mayor y haya comun\n",
    "                #compare 1: a == a\n",
    "                #compare 2: ab != B\n",
    "                while compare <= len(i) and compare <= len(j) and i[:compare] == j[:compare]:\n",
    "                    prefix_common = i[:compare]\n",
    "                    compare += 1\n",
    "\n",
    "                counter = 0\n",
    "                for production in v: #cuenta # de elementos con prefijo compun\n",
    "                    if production.startswith(prefix_common):\n",
    "                        counter += 1\n",
    "                if prefix_common and counter > 1: #actualizar el término más común\n",
    "                    max_prefix = prefix_common\n",
    "\n",
    "        prefix_found = max_prefix\n",
    "        body = i[len(prefix_found):] #no incluir el prefijo común\n",
    "\n",
    "        if prefix_found not in first:\n",
    "            first[prefix_found] = []\n",
    "        first[prefix_found].append(body)\n",
    "    print(first)\n",
    "\n",
    "print(f'new rules: {first}')"
   ]
  },
  {
   "cell_type": "code",
   "execution_count": 375,
   "id": "d9a96365",
   "metadata": {},
   "outputs": [
    {
     "name": "stdout",
     "output_type": "stream",
     "text": [
      "{'A': ['abB', 'aB', 'cdg', 'cdeB', 'cdf', 'B']}\n",
      "new rules: {'A': ['aR1', 'cdR2', 'B'], 'R1': ['bB', 'B'], 'R2': ['g', 'eB', 'f'], 'B': ['']}\n"
     ]
    }
   ],
   "source": [
    "new_rules = {}\n",
    "counter_r = 1\n",
    "print(rules)\n",
    "origin_rules = None\n",
    "for k, v in rules.items():\n",
    "    origin_rules = k\n",
    "\n",
    "productions_origin = []\n",
    "\n",
    "for k,v in first.items():\n",
    "    if len(v) == 1: #si solo hay una producción:\n",
    "        new_rules[k] = v\n",
    "        productions_origin.append(k+v[0])\n",
    "    else:\n",
    "        aux = f\"R{counter_r}\"\n",
    "        counter_r += 1\n",
    "        new_rules[aux] = v\n",
    "        productions_origin.append(k+aux)\n",
    "\n",
    "rules_unified = {origin_rules:productions_origin}\n",
    "for k,v in new_rules.items():\n",
    "    rules_unified[k] = v\n",
    "\n",
    "print(f'new rules: {rules_unified}')"
   ]
  },
  {
   "cell_type": "code",
   "execution_count": 376,
   "id": "de01e683",
   "metadata": {},
   "outputs": [
    {
     "name": "stdout",
     "output_type": "stream",
     "text": [
      "A->aR1|cdR2|B\n",
      "R1->bB|B\n",
      "R2->g|eB|f\n",
      "B->\n"
     ]
    }
   ],
   "source": [
    "for k,v in rules_unified.items():\n",
    "    print(f'{k}->{\"|\".join(v)}')\n"
   ]
  },
  {
   "cell_type": "markdown",
   "id": "a2430537",
   "metadata": {},
   "source": [
    "## Simplicidad de símbolos redundantes\n",
    "1. variables no productivas.\n",
    "2. variables inalcanzables."
   ]
  },
  {
   "cell_type": "code",
   "execution_count": 153,
   "id": "158e281e",
   "metadata": {},
   "outputs": [
    {
     "data": {
      "text/plain": [
       "[[['S'], ['->'], ['AB']],\n",
       " [['A'], ['->'], ['E']],\n",
       " [['B'], ['->'], ['C']],\n",
       " [['C'], ['->'], ['D']],\n",
       " [['D'], ['->'], ['b']],\n",
       " [['E'], ['->'], ['a']]]"
      ]
     },
     "execution_count": 153,
     "metadata": {},
     "output_type": "execute_result"
    }
   ],
   "source": [
    "stack"
   ]
  },
  {
   "cell_type": "code",
   "execution_count": 154,
   "id": "6cb76707",
   "metadata": {},
   "outputs": [
    {
     "data": {
      "text/plain": [
       "{'S': ['AB'], 'A': ['E'], 'B': ['C'], 'C': ['D'], 'D': ['b'], 'E': ['a']}"
      ]
     },
     "execution_count": 154,
     "metadata": {},
     "output_type": "execute_result"
    }
   ],
   "source": [
    "rules"
   ]
  },
  {
   "cell_type": "code",
   "execution_count": 155,
   "id": "69316248",
   "metadata": {},
   "outputs": [
    {
     "name": "stdout",
     "output_type": "stream",
     "text": [
      "k:S and v:['AB']\n",
      "k:A and v:['E']\n",
      "k:B and v:['C']\n",
      "k:C and v:['D']\n",
      "k:D and v:['b']\n",
      "k:E and v:['a']\n",
      "['A', 'B', 'C']\n"
     ]
    }
   ],
   "source": [
    "not_productive = []\n",
    "for k,v in rules.items():\n",
    "    print(f'k:{k} and v:{v}')\n",
    "    productive = False\n",
    "\n",
    "    for production in v:\n",
    "        terminal_count = 0\n",
    "        no_terminal_count = False\n",
    "\n",
    "        for char in production:\n",
    "            if char.islower(): #es terminal?\n",
    "                terminal_count += 1\n",
    "            if char.isupper():\n",
    "                no_terminal_count = True\n",
    "\n",
    "        if terminal_count >= 1 and not no_terminal_count:\n",
    "            productive = True\n",
    "            \n",
    "    if not productive and k != 'S':\n",
    "        not_productive.append(k)\n",
    "print(not_productive)"
   ]
  },
  {
   "cell_type": "code",
   "execution_count": 156,
   "id": "1aa347cd",
   "metadata": {},
   "outputs": [
    {
     "name": "stdout",
     "output_type": "stream",
     "text": [
      "A\n",
      "B\n",
      "{'D': ['b'], 'E': ['a']}\n"
     ]
    }
   ],
   "source": [
    "filter_no_productive = {}\n",
    "for k,v in rules.items():\n",
    "    if k not in not_productive:\n",
    "        new_rules = []\n",
    "        for production in v:\n",
    "            productive = True\n",
    "            for char in production:\n",
    "                if char in not_productive:\n",
    "                    print(char)\n",
    "                    productive = False\n",
    "            if productive:\n",
    "                new_rules.append(production)\n",
    "        if new_rules:\n",
    "            filter_no_productive[k] = new_rules\n",
    "print(filter_no_productive)\n",
    "        "
   ]
  },
  {
   "cell_type": "code",
   "execution_count": 157,
   "id": "3a0619ec",
   "metadata": {},
   "outputs": [
    {
     "data": {
      "text/plain": [
       "{'D': ['b'], 'E': ['a']}"
      ]
     },
     "execution_count": 157,
     "metadata": {},
     "output_type": "execute_result"
    }
   ],
   "source": [
    "filter_no_productive"
   ]
  },
  {
   "cell_type": "code",
   "execution_count": 158,
   "id": "5cd1a43d",
   "metadata": {},
   "outputs": [
    {
     "ename": "KeyError",
     "evalue": "'S'",
     "output_type": "error",
     "traceback": [
      "\u001b[31m---------------------------------------------------------------------------\u001b[39m",
      "\u001b[31mKeyError\u001b[39m                                  Traceback (most recent call last)",
      "\u001b[36mCell\u001b[39m\u001b[36m \u001b[39m\u001b[32mIn[158]\u001b[39m\u001b[32m, line 1\u001b[39m\n\u001b[32m----> \u001b[39m\u001b[32m1\u001b[39m rule_s = \u001b[43mfilter_no_productive\u001b[49m\u001b[43m[\u001b[49m\u001b[33;43m'\u001b[39;49m\u001b[33;43mS\u001b[39;49m\u001b[33;43m'\u001b[39;49m\u001b[43m]\u001b[49m\n\u001b[32m      2\u001b[39m \u001b[38;5;28mprint\u001b[39m(\u001b[33mf\u001b[39m\u001b[33m'\u001b[39m\u001b[33mrules s: \u001b[39m\u001b[38;5;132;01m{\u001b[39;00mrule_s\u001b[38;5;132;01m}\u001b[39;00m\u001b[33m'\u001b[39m)\n\u001b[32m      3\u001b[39m not_redundants = {}\n",
      "\u001b[31mKeyError\u001b[39m: 'S'"
     ]
    }
   ],
   "source": [
    "rule_s = filter_no_productive['S']\n",
    "print(f'rules s: {rule_s}')\n",
    "not_redundants = {}\n",
    "inalcanzable = None\n",
    "for k, v in filter_no_productive.items():\n",
    "    for production in v:\n",
    "        # print(production)\n",
    "        # print(f'k:{k}')\n",
    "        for i in rule_s:          \n",
    "            # print(i)\n",
    "            # print(f'---{k}')\n",
    "            if k not in i and k != 'S':\n",
    "                inalcanzable = k\n",
    "print(inalcanzable)\n",
    "\n",
    "\n",
    "for k,v in filter_no_productive.items():\n",
    "    if k != inalcanzable:\n",
    "        not_redundants[k] = v\n",
    "print(not_redundants)"
   ]
  },
  {
   "cell_type": "code",
   "execution_count": 72,
   "id": "a5db7ef0",
   "metadata": {},
   "outputs": [
    {
     "data": {
      "text/plain": [
       "['aC']"
      ]
     },
     "execution_count": 72,
     "metadata": {},
     "output_type": "execute_result"
    }
   ],
   "source": [
    "filter_no_productive['S']"
   ]
  },
  {
   "cell_type": "markdown",
   "id": "39b49f3c",
   "metadata": {},
   "source": [
    "## Simplicidad por reglas unitarias"
   ]
  },
  {
   "cell_type": "code",
   "execution_count": 159,
   "id": "0b04b6c2",
   "metadata": {},
   "outputs": [
    {
     "name": "stdout",
     "output_type": "stream",
     "text": [
      "['A', 'B']\n",
      "consumido:['A']\n",
      "E\n",
      "consumido:['B']\n",
      "C\n",
      "consumido:['B', 'C']\n",
      "D\n",
      "new rules:{'S': ['AB'], 'A': ['a'], 'B': ['b']}\n"
     ]
    }
   ],
   "source": [
    "new_rules_unity = {}\n",
    "new_rules_unity['S'] = rules['S']\n",
    "symbols_s = []\n",
    "for k,v in new_rules_unity.items():\n",
    "    for production in v:\n",
    "        for char in production:\n",
    "            symbols_s.append(char) #se añaden los terminales en symbols_s\n",
    "\n",
    "print(symbols_s)\n",
    "\n",
    "for i in symbols_s:\n",
    "    if i.isupper():\n",
    "        current_no_terminal = i\n",
    "        consumido = []\n",
    "        #no terminal está en reglas?, es un no terminal?, es un no terminal?\n",
    "        while current_no_terminal in rules and len(rules[current_no_terminal]) == 1 and rules[current_no_terminal][0].isupper():\n",
    "            if current_no_terminal in consumido: #está ese no terminal en consumido?\n",
    "                break\n",
    "            #no está, agrégalo a consumido\n",
    "            consumido.append(current_no_terminal)\n",
    "            print(f'consumido:{consumido}')\n",
    "            current_no_terminal = rules[current_no_terminal][0] #valor de llave actual\n",
    "            print(current_no_terminal)\n",
    "        #una vez que hay un terminal...\n",
    "        if current_no_terminal in rules: #no terminal en rules?\n",
    "            new_rules_unity[i] = [rules[current_no_terminal][0]] #entonces i (A, por ejemplo) es rules['D']\n",
    "        else:\n",
    "            print('yes')\n",
    "            new_rules_unity[i] = current_no_terminal[0]\n",
    "print(f'new rules:{new_rules_unity}')"
   ]
  },
  {
   "cell_type": "markdown",
   "id": "bdb081ff",
   "metadata": {},
   "source": [
    "## Simplicidad por epsilon-producciones"
   ]
  },
  {
   "cell_type": "code",
   "execution_count": 321,
   "id": "87cb9ae7",
   "metadata": {},
   "outputs": [
    {
     "name": "stdout",
     "output_type": "stream",
     "text": [
      "{'S': ['ABaC', 'ABa', 'AaC', 'Aa', 'BaC', 'Ba', 'aC', 'a'], 'A': ['BC', 'B', 'C'], 'B': ['b'], 'C': ['D'], 'D': ['d']}\n"
     ]
    }
   ],
   "source": [
    "epsilon = [] #todos los elementos que pueden llevar a epsilon\n",
    "\n",
    "for k, v in rules.items():\n",
    "    if 'epsilon' in v and k not in epsilon: #una de las producciones contiene epsilon?\n",
    "        epsilon.append(k)\n",
    "# print(epsilon)\n",
    "updates = True\n",
    "\n",
    "while updates: #mientras exista un epsilon...\n",
    "    updates = False\n",
    "\n",
    "    for k, v in rules.items():\n",
    "        if k in epsilon: #si key está, avanzamos\n",
    "            continue\n",
    "        for production in v: #comparar producción contra todas\n",
    "            condition_epsilon = True #puede haber epsilon\n",
    "\n",
    "            for char in production: #por cada caracter de producción\n",
    "                # print(f'char: {char}')\n",
    "                if char not in epsilon: #si caracter no está en epsilon; a no en [X]\n",
    "                    condition_epsilon = False #no existe epsilon\n",
    "                    break\n",
    "\n",
    "            if condition_epsilon: #si hay.. se añade a epsilon\n",
    "                # print('yes')\n",
    "                epsilon.append(k)\n",
    "                updates = True\n",
    "                break\n",
    "\n",
    "new_rules_epsilon = {}\n",
    "\n",
    "for k,v in rules.items():\n",
    "    new_rules_epsilon[k] = []\n",
    "    for production in v:\n",
    "        if production == 'epsilon': #eliminar epsilon\n",
    "            # print('oh',production)\n",
    "            continue\n",
    "\n",
    "        if production not in new_rules_epsilon[k]:\n",
    "            new_rules_epsilon[k].append(production)\n",
    "        # print(new_rules_epsilon)\n",
    "\n",
    "        pos_epsilon = []\n",
    "\n",
    "        for i in range(len(production)):\n",
    "            if production[i] in epsilon:\n",
    "                pos_epsilon.append(i)\n",
    "\n",
    "        combinations = [[]]\n",
    "\n",
    "        for pos in pos_epsilon:\n",
    "            new_combinations = []\n",
    "            for c in combinations:\n",
    "                new_combinations.append(c)\n",
    "                new_combinations.append(c + [pos])\n",
    "\n",
    "            combinations = new_combinations\n",
    "\n",
    "        for comb in combinations:\n",
    "            if not comb:\n",
    "                continue\n",
    "            new_production = \"\"\n",
    "\n",
    "            for i in range(len(production)):\n",
    "                if i not in comb:\n",
    "                    new_production += production[i]\n",
    "            if new_production != \"\" and new_production not in new_rules_epsilon[k]:\n",
    "                new_rules_epsilon[k].append(new_production)\n",
    "                \n",
    "print(new_rules_epsilon)\n"
   ]
  },
  {
   "cell_type": "markdown",
   "id": "062614b2",
   "metadata": {},
   "source": [
    "## Forma Normal de Chomsky (FNC)"
   ]
  },
  {
   "cell_type": "code",
   "execution_count": null,
   "id": "0359e045",
   "metadata": {},
   "outputs": [],
   "source": []
  }
 ],
 "metadata": {
  "kernelspec": {
   "display_name": "Python 3",
   "language": "python",
   "name": "python3"
  },
  "language_info": {
   "codemirror_mode": {
    "name": "ipython",
    "version": 3
   },
   "file_extension": ".py",
   "mimetype": "text/x-python",
   "name": "python",
   "nbconvert_exporter": "python",
   "pygments_lexer": "ipython3",
   "version": "3.13.2"
  }
 },
 "nbformat": 4,
 "nbformat_minor": 5
}
