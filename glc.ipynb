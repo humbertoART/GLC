{
 "cells": [
  {
   "cell_type": "markdown",
   "id": "b3af7832",
   "metadata": {},
   "source": [
    "# Gramática Libre de Contexto\n",
    "## Lectura de archivos"
   ]
  },
  {
   "cell_type": "code",
   "execution_count": 51,
   "id": "91d21b16",
   "metadata": {},
   "outputs": [],
   "source": [
    "file = open(r\"C:\\Users\\hrosa\\OneDrive\\Documentos\\CIC IPN\\Primer Semestre\\Teoria Computacion\\GLC\\GLC.txt\")"
   ]
  },
  {
   "cell_type": "code",
   "execution_count": 52,
   "id": "d5dc3b36",
   "metadata": {},
   "outputs": [],
   "source": [
    "content = file.read()"
   ]
  },
  {
   "cell_type": "code",
   "execution_count": 53,
   "id": "4d3cb5ea",
   "metadata": {},
   "outputs": [
    {
     "data": {
      "text/plain": [
       "['S -> bA | aB', 'A -> bAA | aS | a', 'B -> aBB | bS | a']"
      ]
     },
     "execution_count": 53,
     "metadata": {},
     "output_type": "execute_result"
    }
   ],
   "source": [
    "content.split('\\n')"
   ]
  },
  {
   "cell_type": "code",
   "execution_count": 54,
   "id": "0cf753ad",
   "metadata": {},
   "outputs": [],
   "source": [
    "split_content = content.split('\\n')\n",
    "stack = []\n",
    "for r in split_content:\n",
    "    rules = []\n",
    "    for s in r.split():\n",
    "        rules.append([s])\n",
    "    stack.append(rules)\n",
    "# print(f'stack: {stack}')"
   ]
  },
  {
   "cell_type": "code",
   "execution_count": 55,
   "id": "c790e93b",
   "metadata": {},
   "outputs": [
    {
     "name": "stdout",
     "output_type": "stream",
     "text": [
      "rules{'S': ['bA', 'aB'], 'A': ['bAA', 'aS', 'a'], 'B': ['aBB', 'bS', 'a']}\n"
     ]
    }
   ],
   "source": [
    "#se crean los diccionarios de cada regla de inferencia\n",
    "rules = {}\n",
    "for i in stack:\n",
    "    if not i:\n",
    "        continue\n",
    "    head = i[0][0]\n",
    "    productions = []\n",
    "    for j in i[2:]:\n",
    "        if j[0] != '|':\n",
    "            productions.append(j[0])\n",
    "            # print(productions)\n",
    "    rules[head] = productions\n",
    "print(f'rules{rules}')"
   ]
  },
  {
   "cell_type": "markdown",
   "id": "f00f73a6",
   "metadata": {},
   "source": [
    "## Simplificación de unificación no recursiva"
   ]
  },
  {
   "cell_type": "code",
   "execution_count": 56,
   "id": "e1dba4b3",
   "metadata": {},
   "outputs": [],
   "source": [
    "# def unificacion_no_recursiva(rules):\n",
    "#     #simplificacion de unificacion no recursiva\n",
    "#     for k,v in rules.items():\n",
    "#         # print(f'k:{k}')\n",
    "#         # print(f'v:{v}')\n",
    "#         first = {}\n",
    "#         for i in v: #por cada elemento de producciones\n",
    "#             max_prefix = i #como no se tiene compun, se toma todo el elemento\n",
    "#             # print(f'HOLA I{i}')\n",
    "#             for j in v: #por cada aparición de elemento: comparar contra los demás\n",
    "#                 if j != i: #si esa comparación no es igual\n",
    "#                     # print(f'j:{j} != i:{i}')\n",
    "#                     prefix_common = \"\" #se inicializa en cero, porque aún no hay prefijo comúb\n",
    "#                     compare = 1 #caracter en común en comparación \n",
    "#                     #mientras no tenga longitud mayor y haya comun\n",
    "#                     #compare 1: a == a\n",
    "#                     #compare 2: ab != B\n",
    "#                     while compare <= len(i) and compare <= len(j) and i[:compare] == j[:compare]:\n",
    "#                         prefix_common = i[:compare]\n",
    "#                         compare += 1\n",
    "\n",
    "#                     counter = 0\n",
    "#                     for production in v: #cuenta # de elementos con prefijo compun\n",
    "#                         if production.startswith(prefix_common):\n",
    "#                             counter += 1\n",
    "#                     if prefix_common and counter > 1: #actualizar el término más común\n",
    "#                         max_prefix = prefix_common\n",
    "\n",
    "#             prefix_found = max_prefix\n",
    "#             body = i[len(prefix_found):] #no incluir el prefijo común\n",
    "\n",
    "#             if prefix_found not in first:\n",
    "#                 first[prefix_found] = []\n",
    "#             first[prefix_found].append(body)\n",
    "#     #     print(first)\n",
    "\n",
    "#     # print(f'new rules: {first}')\n",
    "#     new_rules = {}\n",
    "#     counter_r = 1\n",
    "#     # print(rules)\n",
    "#     origin_rules = None\n",
    "#     for k, v in rules.items():\n",
    "#         origin_rules = k\n",
    "\n",
    "#     productions_origin = []\n",
    "\n",
    "#     for k,v in first.items():\n",
    "#         if len(v) == 1: #si solo hay una producción:\n",
    "#             new_rules[k] = v\n",
    "#             productions_origin.append(k+v[0])\n",
    "#         else:\n",
    "#             aux = f\"R{counter_r}\"\n",
    "#             counter_r += 1\n",
    "#             new_rules[aux] = v\n",
    "#             productions_origin.append(k+aux)\n",
    "\n",
    "#     rules_unified = {origin_rules:productions_origin}\n",
    "#     for k,v in new_rules.items():\n",
    "#         rules_unified[k] = v\n",
    "\n",
    "#     # print(f'new rules: {rules_unified}'\n",
    "#     return rules_unified"
   ]
  },
  {
   "cell_type": "markdown",
   "id": "a2430537",
   "metadata": {},
   "source": [
    "## Simplicidad de símbolos redundantes\n",
    "1. variables no productivas.\n",
    "2. variables inalcanzables."
   ]
  },
  {
   "cell_type": "code",
   "execution_count": 57,
   "id": "69316248",
   "metadata": {},
   "outputs": [],
   "source": [
    "def simbolos_redundantes(rules):\n",
    "    not_productive = []\n",
    "    for k,v in rules.items():\n",
    "        # print(f'k:{k} and v:{v}')\n",
    "        productive = False\n",
    "\n",
    "        for production in v:\n",
    "            terminal_count = 0\n",
    "            no_terminal_count = False\n",
    "\n",
    "            for char in production:\n",
    "                if char.islower(): #es terminal?\n",
    "                    terminal_count += 1\n",
    "                if char.isupper(): #es no terminal\n",
    "                    no_terminal_count = True\n",
    "\n",
    "            if terminal_count >= 1 and not no_terminal_count:\n",
    "                productive = True\n",
    "                \n",
    "        if not productive and k != 'S':\n",
    "            not_productive.append(k)\n",
    "    # print(not_productive)\n",
    "\n",
    "    #=======\n",
    "    filter_no_productive = {}\n",
    "    for k,v in rules.items():\n",
    "        if k not in not_productive:\n",
    "            new_rules = []\n",
    "            for production in v:\n",
    "                productive = True\n",
    "                for char in production:\n",
    "                    if char in not_productive:\n",
    "                        # print(char)\n",
    "                        productive = False\n",
    "                if productive:\n",
    "                    new_rules.append(production)\n",
    "            if new_rules:\n",
    "                filter_no_productive[k] = new_rules\n",
    "    # print(filter_no_productive)\n",
    "\n",
    "    #====\n",
    "    if 'S' not in filter_no_productive:\n",
    "        return rules\n",
    "    else:\n",
    "        rule_s = filter_no_productive['S']\n",
    "    # print(f'rules s: {rule_s}')\n",
    "    not_redundants = {}\n",
    "    inalcanzable = []\n",
    "\n",
    "    for k, v in filter_no_productive.items():\n",
    "        alcanzable = False\n",
    "        for production in v:\n",
    "            # print(production)\n",
    "            # print(f'k:{k}')\n",
    "            for i in rule_s:          \n",
    "                # print(i)\n",
    "                # print(f'---{k}')\n",
    "                if k in i or k == 'S':\n",
    "                    alcanzable = True\n",
    "            if not alcanzable:\n",
    "                inalcanzable.append(k)\n",
    "    # print(inalcanzable)\n",
    "\n",
    "    for k,v in filter_no_productive.items():\n",
    "        if k not in inalcanzable:\n",
    "            not_redundants[k] = v\n",
    "    # print(not_redundants)\n",
    "\n",
    "    return not_redundants"
   ]
  },
  {
   "cell_type": "markdown",
   "id": "39b49f3c",
   "metadata": {},
   "source": [
    "## Simplicidad por reglas unitarias"
   ]
  },
  {
   "cell_type": "code",
   "execution_count": 58,
   "id": "0b04b6c2",
   "metadata": {},
   "outputs": [],
   "source": [
    "def simplicidad_unitaria(rules):\n",
    "    unitaria_terminal = {}\n",
    "    for key in rules:\n",
    "        unitaria = list(key)\n",
    "        contador = 0\n",
    "        while contador < len(unitaria):\n",
    "            B = unitaria[contador]\n",
    "            if B in rules:\n",
    "                for production in rules[B]:\n",
    "                    if len(production) == 1 and production.isupper() and production not in unitaria:\n",
    "                        unitaria.append(production)\n",
    "            contador += 1\n",
    "        unitaria_terminal[key] = unitaria\n",
    "\n",
    "    # print(f'unitaria terminal: {unitaria_terminal}')\n",
    "    new_rules = {}\n",
    "    for key in rules:\n",
    "        new_rules[key] = []\n",
    "        for i in unitaria_terminal[key]:\n",
    "            if i in rules:\n",
    "                for production in rules[i]:\n",
    "                    if not(len(production) == 1 and production.isupper()):\n",
    "                        new_rules[key].append(production)\n",
    "\n",
    "    # print(f'new rules: {new_rules}')\n",
    "    no_unitarias = ['S']\n",
    "    stack = ['S']\n",
    "\n",
    "    while stack:\n",
    "        current_value = stack.pop()\n",
    "        if current_value in new_rules:\n",
    "            for production in new_rules[current_value]:\n",
    "                for char in production:\n",
    "                    if char.isupper() and char not in no_unitarias:\n",
    "                        no_unitarias.append(char)\n",
    "                        stack.append(char)\n",
    "    # print(f'stack:{stack}')\n",
    "    # print(f'no unitary: {no_unitarias}')\n",
    "    final = {}\n",
    "\n",
    "    for key in no_unitarias:\n",
    "        if key in new_rules:\n",
    "            final[key] = new_rules[key]\n",
    "\n",
    "    return final"
   ]
  },
  {
   "cell_type": "markdown",
   "id": "bdb081ff",
   "metadata": {},
   "source": [
    "## Simplicidad por epsilon-producciones"
   ]
  },
  {
   "cell_type": "code",
   "execution_count": 59,
   "id": "87cb9ae7",
   "metadata": {},
   "outputs": [],
   "source": [
    "def epsilon_producciones(rules):\n",
    "    epsilon = []\n",
    "    #Hay epsilon en los valores?\n",
    "    for key, value in rules.items():\n",
    "        if 'epsilon' in value and key not in epsilon:\n",
    "            epsilon.append(key)\n",
    "\n",
    "    change = True\n",
    "    while change:\n",
    "        change = False\n",
    "\n",
    "        for key, value in rules.items():\n",
    "            if key in epsilon:\n",
    "                continue\n",
    "            \n",
    "            epsilons = True\n",
    "            for production in value:\n",
    "                for char in production:\n",
    "                    if char not in epsilon:\n",
    "                        epsilons = False\n",
    "                        break\n",
    "                if epsilons:\n",
    "                    if key not in epsilon:\n",
    "                        epsilon.append(key)\n",
    "                        change = True\n",
    "    \n",
    "    new_rules = {}\n",
    "    for key, value in rules.items():\n",
    "        new_rules[key] = []\n",
    "        for production in value:\n",
    "            if production != 'epsilon':\n",
    "                # print('yes')\n",
    "                if production not in new_rules[key]:\n",
    "                    new_rules[key].append(production)\n",
    "            \n",
    "            new_productions = [\"\"]\n",
    "\n",
    "            for char in production:\n",
    "                p = []\n",
    "                if char in epsilon:\n",
    "                    for i in new_productions:\n",
    "                        p.append(i)\n",
    "                        p.append(i+char)\n",
    "                else:\n",
    "                    for i in new_productions:\n",
    "                        p.append(i+char)\n",
    "                \n",
    "                new_productions = p\n",
    "            \n",
    "            for i in new_productions:\n",
    "                if i and i != 'epsilon' and i not in new_rules[key]:\n",
    "                    new_rules[key].append(i) \n",
    "    return new_rules"
   ]
  },
  {
   "cell_type": "markdown",
   "id": "062614b2",
   "metadata": {},
   "source": [
    "## Forma Normal de Chomsky (FNC)"
   ]
  },
  {
   "cell_type": "markdown",
   "id": "e82808ee",
   "metadata": {},
   "source": [
    "1. Identificar y eliminar recursión izquierda (inmediata e indirecta)"
   ]
  },
  {
   "cell_type": "code",
   "execution_count": 60,
   "id": "c719c9a1",
   "metadata": {},
   "outputs": [],
   "source": [
    "def recursividad_indirecta(rules):\n",
    "    no_terminales = list(rules.keys())\n",
    "\n",
    "    for i in range(len(no_terminales)):\n",
    "        ai = no_terminales[i]\n",
    "        new_productions = []\n",
    "\n",
    "        for production in rules[ai]: #cada produccion de regla[0]\n",
    "            first = production\n",
    "            \n",
    "            if first in no_terminales[:i]:\n",
    "                aj = first\n",
    "                for ij in rules[aj]:\n",
    "                    new_productions.append(ij + production[len(aj):])\n",
    "            else:\n",
    "                new_productions.append(production)\n",
    "\n",
    "        rules[ai] = new_productions\n",
    "\n",
    "    return recursividad(rules)\n",
    "\n",
    "def recursividad(rules):\n",
    "    new_rules = {}\n",
    "    abcd = [\"A\", \"B\", \"C\", \"D\", \"E\", \"F\", \"G\", \"H\", \"I\", \"J\", \"K\", \"L\", \"M\", \"N\", \"O\", \"P\", \"Q\", \"R\", \"S\", \"T\", \"U\", \"V\", \"W\", \"X\", \"Y\", \"Z\"]\n",
    "    letra_ocupada = []\n",
    "    for key, value in rules.items():\n",
    "        letra_ocupada.append(key)\n",
    "        recursiva = []\n",
    "        no_recursiva = []\n",
    "\n",
    "        for production in value:\n",
    "            if production.startswith(key):\n",
    "                recursiva.append(production[len(key):])\n",
    "            else:\n",
    "                no_recursiva.append(production)\n",
    "\n",
    "        if recursiva:\n",
    "            new_upper = None\n",
    "            for i in abcd:\n",
    "                if i not in letra_ocupada:\n",
    "                    new_upper = i\n",
    "                    letra_ocupada.append(i)\n",
    "                    break\n",
    "\n",
    "            new_rules[key] = []\n",
    "            for i in no_recursiva:\n",
    "                new_rules[key].append(i + new_upper)\n",
    "\n",
    "            new_rules[new_upper] = []\n",
    "            for j in recursiva:\n",
    "                new_rules[new_upper].append(j + new_upper)\n",
    "            new_rules[new_upper].append('epsilon')\n",
    "\n",
    "        else:\n",
    "            new_rules[key] = value\n",
    "\n",
    "    return new_rules"
   ]
  },
  {
   "cell_type": "code",
   "execution_count": 61,
   "id": "3deb50a7",
   "metadata": {},
   "outputs": [],
   "source": [
    "sin_recursividad = recursividad_indirecta(rules)\n",
    "# new_rules"
   ]
  },
  {
   "cell_type": "markdown",
   "id": "b8c303ce",
   "metadata": {},
   "source": [
    "2. Simplificación de reglas"
   ]
  },
  {
   "cell_type": "code",
   "execution_count": 62,
   "id": "ee1bfde7",
   "metadata": {},
   "outputs": [],
   "source": [
    "for key, value in sin_recursividad.items():\n",
    "    new_productions = []\n",
    "    for production in value:\n",
    "        if production.startswith('epsilon') and len(production) > len('epsilon'):\n",
    "            new_productions.append(production[len('epsilon'):])\n",
    "        else:\n",
    "            new_productions.append(production)\n",
    "    sin_recursividad[key] = new_productions"
   ]
  },
  {
   "cell_type": "code",
   "execution_count": 63,
   "id": "229d363d",
   "metadata": {},
   "outputs": [],
   "source": [
    "changes = True\n",
    "simplificacion_prev = None\n",
    "while changes:\n",
    "    simplificacion = simbolos_redundantes(simplicidad_unitaria(epsilon_producciones(sin_recursividad)))\n",
    "    if simplificacion == simplificacion_prev:\n",
    "        changes = False\n",
    "    else:\n",
    "        changes = True\n",
    "        simplificacion_prev = simplificacion"
   ]
  },
  {
   "cell_type": "markdown",
   "id": "357b0ded",
   "metadata": {},
   "source": [
    "3. Substituir terminales No Independientes"
   ]
  },
  {
   "cell_type": "code",
   "execution_count": 64,
   "id": "9c4b527e",
   "metadata": {},
   "outputs": [],
   "source": [
    "terminales_independientes = {}\n",
    "for key, value in simplificacion.items():\n",
    "    for production in value:\n",
    "        for char in production:\n",
    "            if not char.isupper():\n",
    "                terminales_independientes[f'Z{char.lower()}'] = char"
   ]
  },
  {
   "cell_type": "code",
   "execution_count": 65,
   "id": "7f7a4f18",
   "metadata": {},
   "outputs": [],
   "source": [
    "#considera para FNG\n",
    "new_rules = {}\n",
    "for key, value in simplificacion.items():\n",
    "    new_productions = []\n",
    "    for production in value:\n",
    "        new_production = \"\"\n",
    "        for char in production:\n",
    "            for kt, vt in terminales_independientes.items():\n",
    "                # print(f'production.{production} and len:{len(production)}')\n",
    "                if char == vt and len(production)!=1:\n",
    "                    char = kt\n",
    "            new_production += char + '#'\n",
    "        new_productions.append(new_production)\n",
    "    new_rules[key] = new_productions"
   ]
  },
  {
   "cell_type": "code",
   "execution_count": 66,
   "id": "5e05bf5d",
   "metadata": {},
   "outputs": [],
   "source": [
    "new_rules.update(terminales_independientes)"
   ]
  },
  {
   "cell_type": "code",
   "execution_count": 67,
   "id": "e28b4d7f",
   "metadata": {},
   "outputs": [],
   "source": [
    "for key, value in new_rules.items():\n",
    "    if not isinstance(value,list):\n",
    "        new_rules[key] = [value]"
   ]
  },
  {
   "cell_type": "markdown",
   "id": "6ecf0906",
   "metadata": {},
   "source": [
    "4. Substituir producciones con longitud mayor o igual a 3"
   ]
  },
  {
   "cell_type": "code",
   "execution_count": 68,
   "id": "a2b60118",
   "metadata": {},
   "outputs": [],
   "source": [
    "new_list = {}\n",
    "for key, value in new_rules.items():\n",
    "    # print(f'key:{key} and value:{value}')\n",
    "    new_productions = []\n",
    "    for production in value:\n",
    "        char = production.split('#')\n",
    "        cleaned = []\n",
    "        for i in char:\n",
    "            # print(i)\n",
    "            if i != '':\n",
    "                cleaned.append(i)\n",
    "        new_productions.append(cleaned)\n",
    "    new_list[key] = new_productions"
   ]
  },
  {
   "cell_type": "code",
   "execution_count": 69,
   "id": "ffaadf46",
   "metadata": {},
   "outputs": [],
   "source": [
    "# for key, value in new_list.items():\n",
    "#     print(f'key:{key} and value:{value}')"
   ]
  },
  {
   "cell_type": "code",
   "execution_count": null,
   "id": "83414317",
   "metadata": {},
   "outputs": [
    {
     "data": {
      "text/plain": [
       "{'S': ['ZbA', 'ZaB'],\n",
       " 'A': ['ZbR1', 'ZaS', 'a'],\n",
       " 'R1': ['AA'],\n",
       " 'B': ['ZaR2', 'ZbS', 'a'],\n",
       " 'R2': ['BB'],\n",
       " 'Zb': ['b'],\n",
       " 'Za': ['a']}"
      ]
     },
     "execution_count": 70,
     "metadata": {},
     "output_type": "execute_result"
    }
   ],
   "source": [
    "final_fnc = {}\n",
    "counter_r = 1\n",
    "\n",
    "for key, value in new_list.items():\n",
    "    for production in value:\n",
    "        # print(f'key:{key} and prod:{production}')\n",
    "        if len(production) >= 3:\n",
    "            # print(f'yes I am {production} and my father is {key}')\n",
    "            aux = f'R{counter_r}'\n",
    "            counter_r += 1\n",
    "            final_fnc[key] = [production[0] + aux]\n",
    "            new_body = production[1:]\n",
    "            # print(new_body)\n",
    "\n",
    "            while len(new_body) >= 3:\n",
    "                # new_aux = f'R{counter_r}'\n",
    "                counter_r += 1\n",
    "                final_fnc[key] = [production[0] + aux]\n",
    "                # aux = new_aux\n",
    "                new_body = new_body[1:]\n",
    "            final_fnc[aux] = [''.join(new_body)]\n",
    "        else:\n",
    "            if key not in final_fnc:\n",
    "                final_fnc[key] = []\n",
    "            final_fnc[key].append(''.join(production))"
   ]
  },
  {
   "cell_type": "code",
   "execution_count": 72,
   "id": "4598d1ce",
   "metadata": {},
   "outputs": [
    {
     "name": "stdout",
     "output_type": "stream",
     "text": [
      "S->ZbA | ZaB\n",
      "A->ZbR1 | ZaS | a\n",
      "R1->AA\n",
      "B->ZaR2 | ZbS | a\n",
      "R2->BB\n",
      "Zb->b\n",
      "Za->a\n"
     ]
    }
   ],
   "source": [
    "for key, value in final_fnc.items():\n",
    "    str_value = []\n",
    "    for production in value:\n",
    "        if isinstance(production, list):\n",
    "            str_value.append(\"\".join(map(str,production)))\n",
    "        else:\n",
    "            str_value.append(str(production))\n",
    "    print(f'{key}->{' | '.join(str_value)}')"
   ]
  },
  {
   "cell_type": "markdown",
   "id": "db0b9705",
   "metadata": {},
   "source": [
    "## Forma Normal de Greibach (FNG)"
   ]
  },
  {
   "cell_type": "markdown",
   "id": "09d3e404",
   "metadata": {},
   "source": [
    "1. Tranformar gramática en FNC.\n",
    "2. Renombrar las variables en estricto orden."
   ]
  },
  {
   "cell_type": "code",
   "execution_count": 73,
   "id": "10636031",
   "metadata": {},
   "outputs": [],
   "source": [
    "# final_fnc = {'S': ['AA', 'a'], 'A': ['SS', 'b']}"
   ]
  },
  {
   "cell_type": "code",
   "execution_count": 74,
   "id": "e725b5fd",
   "metadata": {},
   "outputs": [],
   "source": [
    "rules_fnc = {}\n",
    "for key, value in final_fnc.items():\n",
    "    new_productions = []\n",
    "    for production in value:\n",
    "        elements = []\n",
    "        i = 0\n",
    "        while i < len(production):\n",
    "            if production[i] == 'Z' and i + 1 < len(production) or production[i] == 'R':  # Detecta elementos tipo 'Za', 'Zb'\n",
    "                elements.append(production[i:i+2])  # Guarda 'Za', 'Zb', etc. como un solo elemento\n",
    "                i += 2  # Salta los dos caracteres\n",
    "            else:\n",
    "                elements.append(production[i])\n",
    "                i += 1\n",
    "        new_productions.append(elements)\n",
    "    rules_fnc[key] = new_productions"
   ]
  },
  {
   "cell_type": "code",
   "execution_count": 75,
   "id": "6eab946a",
   "metadata": {},
   "outputs": [],
   "source": [
    "renombrar = {}\n",
    "counter_terminal = 2\n",
    "for key, value in rules_fnc.items():\n",
    "    for production in value:\n",
    "        for char in production:\n",
    "            # print(char)\n",
    "            if char == 'S':\n",
    "                renombrar['A1'] = char\n",
    "            # elif key == 'S': #standby\n",
    "            #     renombrar['A1'] = 'S'\n",
    "            elif char.isupper() or char.startswith('Z') or char.startswith('R'):\n",
    "                if char not in renombrar.values():\n",
    "                    renombrar[f'A{counter_terminal}'] = char\n",
    "                    counter_terminal += 1\n",
    "                continue\n",
    "            # counter_terminal += 1"
   ]
  },
  {
   "cell_type": "code",
   "execution_count": 76,
   "id": "3cad5426",
   "metadata": {},
   "outputs": [],
   "source": [
    "# renombrar = {}\n",
    "# counter_terminal = 2\n",
    "# for key, value in final_fnc.items():\n",
    "#     for production in value:\n",
    "#         for char in production:\n",
    "#             # print(char)\n",
    "#             if char == 'S':\n",
    "#                 renombrar['A1'] = char\n",
    "#             # elif key == 'S': #standby\n",
    "#             #     renombrar['A1'] = 'S'\n",
    "#             elif char.isupper():\n",
    "#                 if char not in renombrar.values():\n",
    "#                     renombrar[f'A{counter_terminal}'] = char\n",
    "#                     counter_terminal += 1\n",
    "#                 continue\n",
    "#             # counter_terminal += 1\n",
    "# print(renombrar)"
   ]
  },
  {
   "cell_type": "code",
   "execution_count": 77,
   "id": "ae837b50",
   "metadata": {},
   "outputs": [],
   "source": [
    "new_rules = {}\n",
    "for key, value in rules_fnc.items():\n",
    "    new_productions = []\n",
    "    for production in value:\n",
    "        new_production = \"\"\n",
    "        for char in production:\n",
    "            for kt, vt in renombrar.items():\n",
    "                if char == vt:\n",
    "                    char = kt\n",
    "                if key == vt:\n",
    "                    key = kt\n",
    "            new_production += char + '#'\n",
    "        new_productions.append(new_production)\n",
    "    new_rules[key] = new_productions"
   ]
  },
  {
   "cell_type": "markdown",
   "id": "bc1708c5",
   "metadata": {},
   "source": [
    "3. Identificar las reglas Ai -> aAj donde j\"<\"i <br>\n",
    "A2 -> A1A1"
   ]
  },
  {
   "cell_type": "code",
   "execution_count": 78,
   "id": "d6d27f88",
   "metadata": {},
   "outputs": [],
   "source": [
    "import re\n",
    "rules_identified = {}\n",
    "for key, value in new_rules.items():\n",
    "    i = int(key[1:])\n",
    "    for production in value:\n",
    "        number_a = re.findall(r'^A(\\d+)',production)\n",
    "        if not number_a:\n",
    "            continue\n",
    "\n",
    "        j = int(number_a[0])\n",
    "        if j < i:\n",
    "            if key in rules_identified:\n",
    "                rules_identified[key].append(production)\n",
    "            else:\n",
    "                rules_identified[key] = [production]"
   ]
  },
  {
   "cell_type": "markdown",
   "id": "16111175",
   "metadata": {},
   "source": [
    "4. Transformar al sustituir las reglas.\n"
   ]
  },
  {
   "cell_type": "code",
   "execution_count": 79,
   "id": "aad5c700",
   "metadata": {},
   "outputs": [],
   "source": [
    "sustitucion_reglas = {}\n",
    "for key, value in new_rules.items():\n",
    "    new_productions = []\n",
    "\n",
    "    if key in rules_identified:\n",
    "        identified_prod = rules_identified[key]\n",
    "    else:\n",
    "        identified_prod = []\n",
    "\n",
    "    for production in value:\n",
    "        if production not in identified_prod:\n",
    "            new_productions.append(production.rstrip('#'))\n",
    "\n",
    "    for production in identified_prod:\n",
    "        production = production.rstrip('#')\n",
    "        expand_prod = []\n",
    "\n",
    "        for k in new_rules:\n",
    "            obj = k + '#'\n",
    "            if obj in production + '#':\n",
    "                for v in new_rules[k]:\n",
    "                    v = v.rstrip('#')\n",
    "                    new_p = production.replace(k,v,1)\n",
    "                    expand_prod.append(new_p)\n",
    "                break\n",
    "        if expand_prod:\n",
    "            new_productions += expand_prod\n",
    "        else:\n",
    "            new_productions.append(production)\n",
    "            \n",
    "    sustitucion_reglas[key] = new_productions\n"
   ]
  },
  {
   "cell_type": "markdown",
   "id": "f967b7e0",
   "metadata": {},
   "source": [
    "5. Validar si produce recusión izquierda."
   ]
  },
  {
   "cell_type": "code",
   "execution_count": 80,
   "id": "aee83155",
   "metadata": {},
   "outputs": [],
   "source": [
    "sr_fng = recursividad_indirecta(sustitucion_reglas)"
   ]
  },
  {
   "cell_type": "code",
   "execution_count": 81,
   "id": "c8e8db7d",
   "metadata": {},
   "outputs": [],
   "source": [
    "abcd = [\"S\", \"A\", \"B\", \"C\", \"D\", \"E\", \"F\", \"G\", \"H\", \"I\", \"J\", \"K\", \"L\", \"M\", \"N\", \"O\", \"P\", \"Q\", \"R\", \"T\", \"U\", \"V\", \"W\", \"X\", \"Y\", \"Z\"]\n",
    "letra_ocupada = {}\n",
    "new_rules = {}\n",
    "\n",
    "for i, key in enumerate(sr_fng.keys()):\n",
    "    # print(f'i:{i} and value:{key}')\n",
    "    if key not in letra_ocupada:\n",
    "        letra_ocupada[key] = abcd[i]\n",
    "\n",
    "for key, value in sr_fng.items():\n",
    "    new_key = letra_ocupada[key]\n",
    "    new_productions = []\n",
    "\n",
    "    for production in value:\n",
    "        for kt, vt in letra_ocupada.items():\n",
    "            production = production.replace(kt,vt)\n",
    "        new_productions.append(production)\n",
    "\n",
    "    new_rules[new_key] = new_productions"
   ]
  },
  {
   "cell_type": "code",
   "execution_count": 82,
   "id": "bd55c8cc",
   "metadata": {},
   "outputs": [],
   "source": [
    "new_list = {}\n",
    "for key, value in new_rules.items():\n",
    "    # print(f'key:{key} and value:{value}')\n",
    "    new_productions = []\n",
    "    for production in value:\n",
    "        char = production.split('#')\n",
    "        cleaned = []\n",
    "        for i in char:\n",
    "            # print(i)\n",
    "            if i != '':\n",
    "                cleaned.append(i)\n",
    "        new_productions.append(''.join(cleaned))\n",
    "    new_list[key] = new_productions"
   ]
  },
  {
   "cell_type": "code",
   "execution_count": 83,
   "id": "601d4b82",
   "metadata": {},
   "outputs": [],
   "source": [
    "changes = True\n",
    "prev_fng = None\n",
    "while changes:\n",
    "    final_fng = simbolos_redundantes(simplicidad_unitaria(epsilon_producciones(new_list)))\n",
    "    final_fng = recursividad_indirecta(final_fng)\n",
    "    final_fng = simbolos_redundantes(simplicidad_unitaria(epsilon_producciones(final_fng)))\n",
    "\n",
    "    if final_fng == prev_fng:\n",
    "        changes = False\n",
    "    else:\n",
    "        changes = True\n",
    "        prev_fng = final_fng"
   ]
  },
  {
   "cell_type": "code",
   "execution_count": 84,
   "id": "20de213b",
   "metadata": {},
   "outputs": [
    {
     "name": "stdout",
     "output_type": "stream",
     "text": [
      "S->EA | FC\n",
      "E->b\n",
      "A->FS | a | EAA\n",
      "F->a\n",
      "C->a | FCC | EEA | EFC\n"
     ]
    }
   ],
   "source": [
    "for key, value in final_fng.items():\n",
    "    str_value = []\n",
    "    for production in value:\n",
    "        if isinstance(production, list):\n",
    "            str_value.append(\"\".join(map(str,production)))\n",
    "        else:\n",
    "            str_value.append(str(production))\n",
    "    print(f'{key}->{' | '.join(str_value)}')"
   ]
  },
  {
   "cell_type": "code",
   "execution_count": null,
   "id": "36e09192",
   "metadata": {},
   "outputs": [],
   "source": []
  }
 ],
 "metadata": {
  "kernelspec": {
   "display_name": "Python 3",
   "language": "python",
   "name": "python3"
  },
  "language_info": {
   "codemirror_mode": {
    "name": "ipython",
    "version": 3
   },
   "file_extension": ".py",
   "mimetype": "text/x-python",
   "name": "python",
   "nbconvert_exporter": "python",
   "pygments_lexer": "ipython3",
   "version": "3.13.2"
  }
 },
 "nbformat": 4,
 "nbformat_minor": 5
}
